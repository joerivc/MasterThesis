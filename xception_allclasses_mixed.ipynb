{
 "cells": [
  {
   "cell_type": "code",
   "execution_count": 1,
   "id": "ee24e8e9",
   "metadata": {
    "id": "ee24e8e9"
   },
   "outputs": [],
   "source": [
    "import numpy as np # linear algebra\n",
    "import pandas as pd # data processing, CSV file I/O (e.g. pd.read_csv)\n",
    "\n",
    "# Input data files are available in the read-only \"../input/\" directory\n",
    "# For example, running this (by clicking run or pressing Shift+Enter) will list all files under the input directory\n",
    "\n",
    "import os\n",
    "for dirname, _, filenames in os.walk('/content/MasterThesis/ImagesAllPerPerson'):\n",
    "    for filename in filenames:\n",
    "        os.path.join(dirname, filename)"
   ]
  },
  {
   "cell_type": "code",
   "execution_count": 2,
   "id": "63l1PfNSgy2K",
   "metadata": {
    "colab": {
     "base_uri": "https://localhost:8080/"
    },
    "id": "63l1PfNSgy2K",
    "outputId": "171318a7-7ca8-4e3a-823b-6ce77baa5fef"
   },
   "outputs": [
    {
     "name": "stdout",
     "output_type": "stream",
     "text": [
      "Cloning into 'MasterThesis'...\n",
      "remote: Enumerating objects: 4186, done.\u001b[K\n",
      "remote: Total 4186 (delta 0), reused 0 (delta 0), pack-reused 4186\u001b[K\n",
      "Receiving objects: 100% (4186/4186), 696.87 MiB | 25.28 MiB/s, done.\n",
      "Resolving deltas: 100% (63/63), done.\n",
      "Updating files: 100% (11614/11614), done.\n"
     ]
    }
   ],
   "source": [
    "!git clone https://github.com/joerivc/MasterThesis.git"
   ]
  },
  {
   "cell_type": "code",
   "execution_count": 3,
   "id": "76842b84",
   "metadata": {
    "id": "76842b84"
   },
   "outputs": [],
   "source": [
    "import numpy as np\n",
    "import pandas as pd\n",
    "import matplotlib.pyplot as plt\n",
    "%matplotlib inline\n",
    "import cv2\n",
    "import os\n",
    "from tqdm import tqdm\n",
    "import tensorflow as tf\n",
    "from tensorflow.keras.preprocessing.image import ImageDataGenerator"
   ]
  },
  {
   "cell_type": "code",
   "execution_count": 4,
   "id": "469f7229",
   "metadata": {
    "id": "469f7229"
   },
   "outputs": [],
   "source": [
    "DATADIRTRAIN = '/content/MasterThesis/ImagesAllPerPerson/train'\n",
    "DATADIRTEST = '/content/MasterThesis/ImagesAllPerPerson/test'\n",
    "DATADIRVAL = '/content/MasterThesis/ImagesAllPerPerson/val'\n",
    "CATEGORIES = ['Sitting','SittingSPelvicRF','SittingSPelvicRB','SittingMPelvicRF','SittingMPelvicRB','SittingPelvicRF','SittingPelvicRB','Standing','StandingSPelvicRF','StandingSPelvicRB','StandingMPelvicRF','StandingMPelvicRB','StandingPelvicRF','StandingPelvicRB']\n",
    "IMG_SIZE=299"
   ]
  },
  {
   "cell_type": "code",
   "execution_count": 5,
   "id": "9ffa056f",
   "metadata": {
    "id": "9ffa056f"
   },
   "outputs": [],
   "source": [
    "training_data=[]\n",
    "def create_training_data():\n",
    "    for category in CATEGORIES:\n",
    "        path=os.path.join(DATADIRTRAIN, category)\n",
    "        class_num=CATEGORIES.index(category)\n",
    "        for img in os.listdir(path):\n",
    "            try:\n",
    "                img_array=cv2.imread(os.path.join(path,img))\n",
    "                new_array=cv2.resize(img_array,(IMG_SIZE,IMG_SIZE))\n",
    "                training_data.append([new_array,class_num])\n",
    "            except Exception as e:\n",
    "                pass"
   ]
  },
  {
   "cell_type": "code",
   "execution_count": 6,
   "id": "8da181d8",
   "metadata": {
    "id": "8da181d8"
   },
   "outputs": [],
   "source": [
    "test_data=[]\n",
    "def create_test_data():\n",
    "    for category in CATEGORIES:\n",
    "        path=os.path.join(DATADIRTEST, category)\n",
    "        class_num=CATEGORIES.index(category)\n",
    "        for img in os.listdir(path):\n",
    "            try:\n",
    "                img_array=cv2.imread(os.path.join(path,img))\n",
    "                new_array=cv2.resize(img_array,(IMG_SIZE,IMG_SIZE))\n",
    "                test_data.append([new_array,class_num])\n",
    "            except Exception as e:\n",
    "                pass"
   ]
  },
  {
   "cell_type": "code",
   "execution_count": 7,
   "id": "4c8d539c",
   "metadata": {
    "id": "4c8d539c"
   },
   "outputs": [],
   "source": [
    "val_data=[]\n",
    "def create_val_data():\n",
    "    for category in CATEGORIES:\n",
    "        path=os.path.join(DATADIRVAL, category)\n",
    "        class_num=CATEGORIES.index(category)\n",
    "        for img in os.listdir(path):\n",
    "            try:\n",
    "                img_array=cv2.imread(os.path.join(path,img))\n",
    "                new_array=cv2.resize(img_array,(IMG_SIZE,IMG_SIZE))\n",
    "                val_data.append([new_array,class_num])\n",
    "            except Exception as e:\n",
    "                pass"
   ]
  },
  {
   "cell_type": "code",
   "execution_count": 8,
   "id": "b57de0e0",
   "metadata": {
    "id": "b57de0e0"
   },
   "outputs": [],
   "source": [
    "create_training_data()\n",
    "X_train=[]\n",
    "y_train=[]\n",
    "categories_train = []\n",
    "label_train = []\n",
    "for categories_train, label_train in training_data:\n",
    "    X_train.append(categories_train)\n",
    "    y_train.append(label_train)\n"
   ]
  },
  {
   "cell_type": "code",
   "execution_count": 9,
   "id": "0fe64122",
   "metadata": {
    "id": "0fe64122"
   },
   "outputs": [],
   "source": [
    "X_train1 = np.array(X_train)/255.0\n",
    "y_train = np.array(y_train)"
   ]
  },
  {
   "cell_type": "code",
   "execution_count": 10,
   "id": "d6981e0d",
   "metadata": {
    "id": "d6981e0d"
   },
   "outputs": [],
   "source": [
    "create_test_data()\n",
    "X_test=[]\n",
    "y_test=[]\n",
    "for categories_test, label_test in test_data:\n",
    "    X_test.append(categories_test)\n",
    "    y_test.append(label_test)"
   ]
  },
  {
   "cell_type": "code",
   "execution_count": 11,
   "id": "dfb21267",
   "metadata": {
    "id": "dfb21267"
   },
   "outputs": [],
   "source": [
    "X_test1 = np.array(X_test)/255.0"
   ]
  },
  {
   "cell_type": "code",
   "execution_count": 12,
   "id": "fbbfc2cd",
   "metadata": {
    "id": "fbbfc2cd"
   },
   "outputs": [],
   "source": [
    "create_val_data()\n",
    "X_val=[]\n",
    "y_val=[]\n",
    "for categories_val, label_val in val_data:\n",
    "    X_val.append(categories_val)\n",
    "    y_val.append(label_val)"
   ]
  },
  {
   "cell_type": "code",
   "execution_count": 13,
   "id": "888ea6f8",
   "metadata": {
    "id": "888ea6f8"
   },
   "outputs": [],
   "source": [
    "X_val1 = np.array(X_val)/255.0\n",
    "y_val = np.array(y_val)"
   ]
  },
  {
   "cell_type": "code",
   "execution_count": null,
   "id": "d15ab8af",
   "metadata": {
    "colab": {
     "base_uri": "https://localhost:8080/"
    },
    "id": "d15ab8af",
    "outputId": "64dcc957-4460-4a05-e903-cc49a6bcf4bd"
   },
   "outputs": [
    {
     "name": "stdout",
     "output_type": "stream",
     "text": [
      "(1440, 299, 299, 3)\n"
     ]
    }
   ],
   "source": [
    "print(X_train1.shape)"
   ]
  },
  {
   "cell_type": "code",
   "execution_count": null,
   "id": "00b74f10",
   "metadata": {
    "colab": {
     "base_uri": "https://localhost:8080/"
    },
    "id": "00b74f10",
    "outputId": "decde629-b0b9-40e3-9653-8130d5a60021"
   },
   "outputs": [
    {
     "name": "stdout",
     "output_type": "stream",
     "text": [
      "1440\n"
     ]
    }
   ],
   "source": [
    "print(len(y_train))"
   ]
  },
  {
   "cell_type": "code",
   "execution_count": 14,
   "id": "Z3rqLU2rhw1q",
   "metadata": {
    "id": "Z3rqLU2rhw1q"
   },
   "outputs": [],
   "source": [
    "X_test = np.array(X_test)/255.0\n",
    "y_test = np.array(y_test)"
   ]
  },
  {
   "cell_type": "code",
   "execution_count": null,
   "id": "f4e0ab39",
   "metadata": {
    "colab": {
     "base_uri": "https://localhost:8080/"
    },
    "id": "f4e0ab39",
    "outputId": "4097f782-021c-4167-c8e2-839d3b0b2829"
   },
   "outputs": [
    {
     "name": "stdout",
     "output_type": "stream",
     "text": [
      "Downloading data from https://storage.googleapis.com/tensorflow/keras-applications/xception/xception_weights_tf_dim_ordering_tf_kernels.h5\n",
      "91884032/91884032 [==============================] - 1s 0us/step\n",
      "(1440, 299, 299, 3)\n",
      "Epoch 1/20\n"
     ]
    }
   ],
   "source": [
    "# Load pretrained Xception model\n",
    "xception = tf.keras.applications.Xception(weights='imagenet', include_top=True)\n",
    "xception.compile(optimizer='adam', loss='sparse_categorical_crossentropy', metrics=['accuracy'])\n",
    "#train_datagen = ImageDataGenerator()\n",
    "#train_datagen.fit(X_train)\n",
    "#xception.fit(train_datagen.flow(X_train, y_train, batch_size=32),\n",
    "#                    steps_per_epoch=len(x_train) / batch_size, epochs=10, verbose=1)\n",
    "print(X_train1.shape)\n",
    "xception.fit(X_train1, y_train,epochs=20,batch_size=16,validation_data=(X_val1, y_val))"
   ]
  },
  {
   "cell_type": "code",
   "execution_count": null,
   "id": "3kVEDvSairiG",
   "metadata": {
    "colab": {
     "base_uri": "https://localhost:8080/"
    },
    "id": "3kVEDvSairiG",
    "outputId": "a5d73ce5-10a8-4c45-8cdf-900d22a6dc48"
   },
   "outputs": [
    {
     "name": "stdout",
     "output_type": "stream",
     "text": [
      "15/15 [==============================] - 16s 1s/step - loss: 0.5345 - accuracy: 0.8896\n",
      "Test Loss: 0.5344730019569397, Test Accuracy: 0.8895833492279053\n"
     ]
    }
   ],
   "source": [
    "loss, accuracy = xception.evaluate(X_test, y_test)\n",
    "print(f'Test Loss: {loss}, Test Accuracy: {accuracy}')"
   ]
  },
  {
   "cell_type": "code",
   "execution_count": null,
   "id": "f97b3104",
   "metadata": {
    "id": "f97b3104"
   },
   "outputs": [],
   "source": [
    "from sklearn.metrics import confusion_matrix\n",
    "import seaborn as sns\n",
    "import matplotlib.pyplot as plt\n",
    "\n",
    "# Assuming you already have trained your SVM classifier (svc) and have test data (X_test, y_test)\n",
    "\n",
    "# Make predictions on test data\n",
    "y_pred = xception.predict(X_test)\n",
    "\n",
    "# Create confusion matrix\n",
    "cm = confusion_matrix(y_test, y_pred)\n",
    "\n",
    "# Visualize confusion matrix using seaborn heatmap\n",
    "plt.figure(figsize=(8, 6))\n",
    "sns.heatmap(cm, annot=True, fmt=\"d\", cmap=\"Blues\", cbar=False)\n",
    "plt.xlabel(\"Predicted labels\")\n",
    "plt.ylabel(\"True labels\")\n",
    "plt.title(\"Confusion Matrix\")\n",
    "\n",
    "# Save the confusion matrix plot as an image file\n",
    "plt.savefig('confusion_matrix.png')\n",
    "\n",
    "plt.show()"
   ]
  }
 ],
 "metadata": {
  "accelerator": "TPU",
  "colab": {
   "provenance": []
  },
  "kernelspec": {
   "display_name": "Python 3 (ipykernel)",
   "language": "python",
   "name": "python3"
  },
  "language_info": {
   "codemirror_mode": {
    "name": "ipython",
    "version": 3
   },
   "file_extension": ".py",
   "mimetype": "text/x-python",
   "name": "python",
   "nbconvert_exporter": "python",
   "pygments_lexer": "ipython3",
   "version": "3.9.7"
  }
 },
 "nbformat": 4,
 "nbformat_minor": 5
}

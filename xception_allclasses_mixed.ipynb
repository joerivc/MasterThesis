{
  "cells": [
    {
      "cell_type": "code",
      "execution_count": 1,
      "id": "ee24e8e9",
      "metadata": {
        "id": "ee24e8e9"
      },
      "outputs": [],
      "source": [
        "import numpy as np # linear algebra\n",
        "import pandas as pd # data processing, CSV file I/O (e.g. pd.read_csv)\n",
        "\n",
        "# Input data files are available in the read-only \"../input/\" directory\n",
        "# For example, running this (by clicking run or pressing Shift+Enter) will list all files under the input directory\n",
        "\n",
        "import os\n",
        "for dirname, _, filenames in os.walk('/content/MasterThesis/SplittedImagesAllClasses'):\n",
        "    for filename in filenames:\n",
        "        os.path.join(dirname, filename)"
      ]
    },
    {
      "cell_type": "code",
      "execution_count": 2,
      "id": "63l1PfNSgy2K",
      "metadata": {
        "colab": {
          "base_uri": "https://localhost:8080/"
        },
        "id": "63l1PfNSgy2K",
        "outputId": "3f07befb-e3fa-41ab-deb6-1906297d8f76"
      },
      "outputs": [
        {
          "output_type": "stream",
          "name": "stdout",
          "text": [
            "Cloning into 'MasterThesis'...\n",
            "remote: Enumerating objects: 6804, done.\u001b[K\n",
            "remote: Counting objects: 100% (42/42), done.\u001b[K\n",
            "remote: Compressing objects: 100% (34/34), done.\u001b[K\n",
            "remote: Total 6804 (delta 22), reused 11 (delta 8), pack-reused 6762\u001b[K\n",
            "Receiving objects: 100% (6804/6804), 1.21 GiB | 44.29 MiB/s, done.\n",
            "Resolving deltas: 100% (214/214), done.\n",
            "Updating files: 100% (40452/40452), done.\n"
          ]
        }
      ],
      "source": [
        "!git clone https://github.com/joerivc/MasterThesis.git"
      ]
    },
    {
      "cell_type": "code",
      "execution_count": 3,
      "id": "76842b84",
      "metadata": {
        "id": "76842b84"
      },
      "outputs": [],
      "source": [
        "import numpy as np\n",
        "import pandas as pd\n",
        "import matplotlib.pyplot as plt\n",
        "%matplotlib inline\n",
        "import cv2\n",
        "import os\n",
        "from tqdm import tqdm\n",
        "import tensorflow as tf\n",
        "from tensorflow.keras.preprocessing.image import ImageDataGenerator"
      ]
    },
    {
      "cell_type": "code",
      "execution_count": 4,
      "id": "469f7229",
      "metadata": {
        "id": "469f7229"
      },
      "outputs": [],
      "source": [
        "DATADIRTRAIN = '/content/MasterThesis/SplittedImagesAllClasses/train'\n",
        "DATADIRTEST = '/content/MasterThesis/SplittedImagesAllClasses/test'\n",
        "DATADIRVAL = '/content/MasterThesis/SplittedImagesAllClasses/val'\n",
        "CATEGORIES = ['Sitting','SittingSPelvicRF','SittingSPelvicRB','SittingMPelvicRF','SittingMPelvicRB','SittingPelvicRF','SittingPelvicRB','Standing','StandingSPelvicRF','StandingSPelvicRB','StandingMPelvicRF','StandingMPelvicRB','StandingPelvicRF','StandingPelvicRB']\n",
        "IMG_SIZE=299"
      ]
    },
    {
      "cell_type": "code",
      "execution_count": 5,
      "id": "9ffa056f",
      "metadata": {
        "id": "9ffa056f"
      },
      "outputs": [],
      "source": [
        "training_data=[]\n",
        "def create_training_data():\n",
        "    for category in CATEGORIES:\n",
        "        path=os.path.join(DATADIRTRAIN, category)\n",
        "        class_num=CATEGORIES.index(category)\n",
        "        for img in os.listdir(path):\n",
        "            try:\n",
        "                img_array=cv2.imread(os.path.join(path,img))\n",
        "                new_array=cv2.resize(img_array,(IMG_SIZE,IMG_SIZE))\n",
        "                training_data.append([new_array,class_num])\n",
        "            except Exception as e:\n",
        "                pass"
      ]
    },
    {
      "cell_type": "code",
      "execution_count": 6,
      "id": "8da181d8",
      "metadata": {
        "id": "8da181d8"
      },
      "outputs": [],
      "source": [
        "test_data=[]\n",
        "def create_test_data():\n",
        "    for category in CATEGORIES:\n",
        "        path=os.path.join(DATADIRTEST, category)\n",
        "        class_num=CATEGORIES.index(category)\n",
        "        for img in os.listdir(path):\n",
        "            try:\n",
        "                img_array=cv2.imread(os.path.join(path,img))\n",
        "                new_array=cv2.resize(img_array,(IMG_SIZE,IMG_SIZE))\n",
        "                test_data.append([new_array,class_num])\n",
        "            except Exception as e:\n",
        "                pass"
      ]
    },
    {
      "cell_type": "code",
      "execution_count": 7,
      "id": "4c8d539c",
      "metadata": {
        "id": "4c8d539c"
      },
      "outputs": [],
      "source": [
        "val_data=[]\n",
        "def create_val_data():\n",
        "    for category in CATEGORIES:\n",
        "        path=os.path.join(DATADIRVAL, category)\n",
        "        class_num=CATEGORIES.index(category)\n",
        "        for img in os.listdir(path):\n",
        "            try:\n",
        "                img_array=cv2.imread(os.path.join(path,img))\n",
        "                new_array=cv2.resize(img_array,(IMG_SIZE,IMG_SIZE))\n",
        "                val_data.append([new_array,class_num])\n",
        "            except Exception as e:\n",
        "                pass"
      ]
    },
    {
      "cell_type": "code",
      "execution_count": 8,
      "id": "b57de0e0",
      "metadata": {
        "id": "b57de0e0"
      },
      "outputs": [],
      "source": [
        "create_training_data()\n",
        "X_train=[]\n",
        "y_train=[]\n",
        "categories_train = []\n",
        "label_train = []\n",
        "for categories_train, label_train in training_data:\n",
        "    X_train.append(categories_train)\n",
        "    y_train.append(label_train)\n"
      ]
    },
    {
      "cell_type": "code",
      "execution_count": 9,
      "id": "0fe64122",
      "metadata": {
        "id": "0fe64122"
      },
      "outputs": [],
      "source": [
        "X_train1 = np.array(X_train)/255.0\n",
        "y_train = np.array(y_train)"
      ]
    },
    {
      "cell_type": "code",
      "execution_count": 10,
      "id": "d6981e0d",
      "metadata": {
        "id": "d6981e0d"
      },
      "outputs": [],
      "source": [
        "create_test_data()\n",
        "X_test=[]\n",
        "y_test=[]\n",
        "for categories_test, label_test in test_data:\n",
        "    X_test.append(categories_test)\n",
        "    y_test.append(label_test)"
      ]
    },
    {
      "cell_type": "code",
      "execution_count": 11,
      "id": "dfb21267",
      "metadata": {
        "id": "dfb21267"
      },
      "outputs": [],
      "source": [
        "X_test1 = np.array(X_test)/255.0"
      ]
    },
    {
      "cell_type": "code",
      "execution_count": 12,
      "id": "fbbfc2cd",
      "metadata": {
        "id": "fbbfc2cd"
      },
      "outputs": [],
      "source": [
        "create_val_data()\n",
        "X_val=[]\n",
        "y_val=[]\n",
        "for categories_val, label_val in val_data:\n",
        "    X_val.append(categories_val)\n",
        "    y_val.append(label_val)"
      ]
    },
    {
      "cell_type": "code",
      "execution_count": 13,
      "id": "888ea6f8",
      "metadata": {
        "id": "888ea6f8"
      },
      "outputs": [],
      "source": [
        "X_val1 = np.array(X_val)/255.0\n",
        "y_val = np.array(y_val)"
      ]
    },
    {
      "cell_type": "code",
      "execution_count": 14,
      "id": "d15ab8af",
      "metadata": {
        "colab": {
          "base_uri": "https://localhost:8080/"
        },
        "id": "d15ab8af",
        "outputId": "5d1ebfcc-8cc1-4990-82b8-f1f096a734bc"
      },
      "outputs": [
        {
          "output_type": "stream",
          "name": "stdout",
          "text": [
            "(2880, 299, 299, 3)\n"
          ]
        }
      ],
      "source": [
        "print(X_train1.shape)"
      ]
    },
    {
      "cell_type": "code",
      "execution_count": 15,
      "id": "00b74f10",
      "metadata": {
        "colab": {
          "base_uri": "https://localhost:8080/"
        },
        "id": "00b74f10",
        "outputId": "f421f48d-3cd9-44b2-89a2-9ff3c1d3a996"
      },
      "outputs": [
        {
          "output_type": "stream",
          "name": "stdout",
          "text": [
            "2880\n"
          ]
        }
      ],
      "source": [
        "print(len(y_train))"
      ]
    },
    {
      "cell_type": "code",
      "execution_count": 16,
      "id": "Z3rqLU2rhw1q",
      "metadata": {
        "id": "Z3rqLU2rhw1q"
      },
      "outputs": [],
      "source": [
        "X_test = np.array(X_test)/255.0\n",
        "y_test = np.array(y_test)"
      ]
    },
    {
      "cell_type": "code",
      "execution_count": 17,
      "id": "f4e0ab39",
      "metadata": {
        "colab": {
          "base_uri": "https://localhost:8080/"
        },
        "id": "f4e0ab39",
        "outputId": "4fb49c1c-8d12-48e1-f8da-1f61f1e3509b"
      },
      "outputs": [
        {
          "output_type": "stream",
          "name": "stdout",
          "text": [
            "Downloading data from https://storage.googleapis.com/tensorflow/keras-applications/xception/xception_weights_tf_dim_ordering_tf_kernels.h5\n",
            "91884032/91884032 [==============================] - 1s 0us/step\n",
            "(2880, 299, 299, 3)\n",
            "Epoch 1/20\n",
            "180/180 [==============================] - 70s 218ms/step - loss: 1.5804 - accuracy: 0.4212 - val_loss: 1.7486 - val_accuracy: 0.4688\n",
            "Epoch 2/20\n",
            "180/180 [==============================] - 36s 200ms/step - loss: 0.9064 - accuracy: 0.6264 - val_loss: 6.0790 - val_accuracy: 0.3271\n",
            "Epoch 3/20\n",
            "180/180 [==============================] - 37s 204ms/step - loss: 0.6239 - accuracy: 0.7559 - val_loss: 3.2424 - val_accuracy: 0.4135\n",
            "Epoch 4/20\n",
            "180/180 [==============================] - 37s 203ms/step - loss: 0.4551 - accuracy: 0.8295 - val_loss: 1.1723 - val_accuracy: 0.6490\n",
            "Epoch 5/20\n",
            "180/180 [==============================] - 37s 203ms/step - loss: 0.3227 - accuracy: 0.8760 - val_loss: 0.6713 - val_accuracy: 0.7958\n",
            "Epoch 6/20\n",
            "180/180 [==============================] - 37s 204ms/step - loss: 0.2682 - accuracy: 0.9045 - val_loss: 0.5454 - val_accuracy: 0.8635\n",
            "Epoch 7/20\n",
            "180/180 [==============================] - 37s 203ms/step - loss: 0.2489 - accuracy: 0.9108 - val_loss: 1.9509 - val_accuracy: 0.6625\n",
            "Epoch 8/20\n",
            "180/180 [==============================] - 37s 203ms/step - loss: 0.1832 - accuracy: 0.9372 - val_loss: 2.0776 - val_accuracy: 0.5740\n",
            "Epoch 9/20\n",
            "180/180 [==============================] - 37s 204ms/step - loss: 0.1835 - accuracy: 0.9389 - val_loss: 1.0894 - val_accuracy: 0.7385\n",
            "Epoch 10/20\n",
            "180/180 [==============================] - 37s 203ms/step - loss: 0.1029 - accuracy: 0.9688 - val_loss: 0.3551 - val_accuracy: 0.8865\n",
            "Epoch 11/20\n",
            "180/180 [==============================] - 37s 204ms/step - loss: 0.1377 - accuracy: 0.9531 - val_loss: 0.2082 - val_accuracy: 0.9260\n",
            "Epoch 12/20\n",
            "180/180 [==============================] - 37s 204ms/step - loss: 0.0974 - accuracy: 0.9712 - val_loss: 1.5549 - val_accuracy: 0.6313\n",
            "Epoch 13/20\n",
            "180/180 [==============================] - 37s 204ms/step - loss: 0.1071 - accuracy: 0.9684 - val_loss: 0.2065 - val_accuracy: 0.9333\n",
            "Epoch 14/20\n",
            "180/180 [==============================] - 37s 204ms/step - loss: 0.0724 - accuracy: 0.9778 - val_loss: 0.2848 - val_accuracy: 0.9156\n",
            "Epoch 15/20\n",
            "180/180 [==============================] - 37s 203ms/step - loss: 0.1311 - accuracy: 0.9569 - val_loss: 0.2478 - val_accuracy: 0.9292\n",
            "Epoch 16/20\n",
            "180/180 [==============================] - 37s 204ms/step - loss: 0.0643 - accuracy: 0.9785 - val_loss: 0.3069 - val_accuracy: 0.8990\n",
            "Epoch 17/20\n",
            "180/180 [==============================] - 37s 203ms/step - loss: 0.0466 - accuracy: 0.9882 - val_loss: 0.5912 - val_accuracy: 0.8292\n",
            "Epoch 18/20\n",
            "180/180 [==============================] - 37s 204ms/step - loss: 0.0624 - accuracy: 0.9816 - val_loss: 0.1825 - val_accuracy: 0.9500\n",
            "Epoch 19/20\n",
            "180/180 [==============================] - 37s 204ms/step - loss: 0.0509 - accuracy: 0.9858 - val_loss: 0.1804 - val_accuracy: 0.9521\n",
            "Epoch 20/20\n",
            "180/180 [==============================] - 37s 204ms/step - loss: 0.0811 - accuracy: 0.9736 - val_loss: 0.5152 - val_accuracy: 0.8813\n"
          ]
        },
        {
          "output_type": "execute_result",
          "data": {
            "text/plain": [
              "<keras.src.callbacks.History at 0x795dfc0a7850>"
            ]
          },
          "metadata": {},
          "execution_count": 17
        }
      ],
      "source": [
        "# Load pretrained Xception model\n",
        "xception = tf.keras.applications.Xception(weights='imagenet', include_top=True)\n",
        "xception.compile(optimizer='adam', loss='sparse_categorical_crossentropy', metrics=['accuracy'])\n",
        "#train_datagen = ImageDataGenerator()\n",
        "#train_datagen.fit(X_train)\n",
        "#xception.fit(train_datagen.flow(X_train, y_train, batch_size=32),\n",
        "#                    steps_per_epoch=len(x_train) / batch_size, epochs=10, verbose=1)\n",
        "print(X_train1.shape)\n",
        "xception.fit(X_train1, y_train,epochs=20,batch_size=16,validation_data=(X_val1, y_val))"
      ]
    },
    {
      "cell_type": "code",
      "execution_count": 18,
      "id": "3kVEDvSairiG",
      "metadata": {
        "colab": {
          "base_uri": "https://localhost:8080/"
        },
        "id": "3kVEDvSairiG",
        "outputId": "a1f2dbd7-bb38-48e9-d56d-5c93892da254"
      },
      "outputs": [
        {
          "output_type": "stream",
          "name": "stdout",
          "text": [
            "30/30 [==============================] - 6s 133ms/step - loss: 0.4715 - accuracy: 0.8917\n",
            "Test Loss: 0.4715157151222229, Test Accuracy: 0.8916666507720947\n"
          ]
        }
      ],
      "source": [
        "loss, accuracy = xception.evaluate(X_test, y_test)\n",
        "print(f'Test Loss: {loss}, Test Accuracy: {accuracy}')"
      ]
    },
    {
      "cell_type": "code",
      "execution_count": 19,
      "id": "f97b3104",
      "metadata": {
        "id": "f97b3104",
        "outputId": "cfcad90b-55a0-44e4-f6f3-05085f49cf90",
        "colab": {
          "base_uri": "https://localhost:8080/",
          "height": 582
        }
      },
      "outputs": [
        {
          "output_type": "stream",
          "name": "stdout",
          "text": [
            "30/30 [==============================] - 5s 129ms/step\n"
          ]
        },
        {
          "output_type": "display_data",
          "data": {
            "text/plain": [
              "<Figure size 800x600 with 1 Axes>"
            ],
            "image/png": "[encoded data removed]"
          },
          "metadata": {}
        }
      ],
      "source": [
        "from sklearn.metrics import confusion_matrix\n",
        "import seaborn as sns\n",
        "import matplotlib.pyplot as plt\n",
        "\n",
        "# Assuming you already have trained your Xception model (xception) and have test data (X_test, y_test)\n",
        "\n",
        "# Make predictions on test data\n",
        "y_pred = xception.predict(X_test)\n",
        "# Convert probabilities to class labels\n",
        "y_pred_classes = y_pred.argmax(axis=-1)\n",
        "\n",
        "# Create confusion matrix\n",
        "cm = confusion_matrix(y_test, y_pred_classes)\n",
        "\n",
        "# Visualize confusion matrix using seaborn heatmap\n",
        "plt.figure(figsize=(8, 6))\n",
        "sns.heatmap(cm, annot=True, fmt=\"d\", cmap=\"Blues\", cbar=False)  # Normalize by row\n",
        "plt.xlabel(\"Predicted labels\")\n",
        "plt.ylabel(\"True labels\")\n",
        "plt.title(\"Confusion Matrix\")\n",
        "\n",
        "# Save the confusion matrix plot as an image file\n",
        "plt.savefig('confusion_matrix.png')\n",
        "\n",
        "plt.show()"
      ]
    }
  ],
  "metadata": {
    "accelerator": "GPU",
    "colab": {
      "provenance": [],
      "gpuType": "L4"
    },
    "kernelspec": {
      "display_name": "Python 3",
      "name": "python3"
    },
    "language_info": {
      "codemirror_mode": {
        "name": "ipython",
        "version": 3
      },
      "file_extension": ".py",
      "mimetype": "text/x-python",
      "name": "python",
      "nbconvert_exporter": "python",
      "pygments_lexer": "ipython3",
      "version": "3.9.7"
    }
  },
  "nbformat": 4,
  "nbformat_minor": 5
}
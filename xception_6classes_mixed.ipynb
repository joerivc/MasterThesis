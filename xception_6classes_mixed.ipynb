{
  "cells": [
    {
      "cell_type": "code",
      "execution_count": 1,
      "id": "ee24e8e9",
      "metadata": {
        "id": "ee24e8e9"
      },
      "outputs": [],
      "source": [
        "import numpy as np # linear algebra\n",
        "import pandas as pd # data processing, CSV file I/O (e.g. pd.read_csv)\n",
        "\n",
        "# Input data files are available in the read-only \"../input/\" directory\n",
        "# For example, running this (by clicking run or pressing Shift+Enter) will list all files under the input directory\n",
        "\n",
        "import os\n",
        "for dirname, _, filenames in os.walk('/content/MasterThesis/SplittedImagesAllClasses'):\n",
        "    for filename in filenames:\n",
        "        os.path.join(dirname, filename)"
      ]
    },
    {
      "cell_type": "code",
      "execution_count": 2,
      "id": "63l1PfNSgy2K",
      "metadata": {
        "colab": {
          "base_uri": "https://localhost:8080/"
        },
        "id": "63l1PfNSgy2K",
        "outputId": "b6dbe4fd-123e-4f49-c6df-d55b841700e3"
      },
      "outputs": [
        {
          "output_type": "stream",
          "name": "stdout",
          "text": [
            "Cloning into 'MasterThesis'...\n",
            "remote: Enumerating objects: 6798, done.\u001b[K\n",
            "remote: Counting objects: 100% (36/36), done.\u001b[K\n",
            "remote: Compressing objects: 100% (28/28), done.\u001b[K\n",
            "remote: Total 6798 (delta 20), reused 11 (delta 8), pack-reused 6762\u001b[K\n",
            "Receiving objects: 100% (6798/6798), 1.21 GiB | 44.47 MiB/s, done.\n",
            "Resolving deltas: 100% (212/212), done.\n",
            "Updating files: 100% (40452/40452), done.\n"
          ]
        }
      ],
      "source": [
        "!git clone https://github.com/joerivc/MasterThesis.git"
      ]
    },
    {
      "cell_type": "code",
      "execution_count": 2,
      "id": "76842b84",
      "metadata": {
        "id": "76842b84"
      },
      "outputs": [],
      "source": [
        "import numpy as np\n",
        "import pandas as pd\n",
        "import matplotlib.pyplot as plt\n",
        "%matplotlib inline\n",
        "import cv2\n",
        "import os\n",
        "from tqdm import tqdm\n",
        "import tensorflow as tf\n",
        "from tensorflow.keras.preprocessing.image import ImageDataGenerator"
      ]
    },
    {
      "cell_type": "code",
      "execution_count": 3,
      "id": "469f7229",
      "metadata": {
        "id": "469f7229"
      },
      "outputs": [],
      "source": [
        "DATADIRTRAIN = '/content/MasterThesis/SplittedImages6Classes/train'\n",
        "DATADIRTEST = '/content/MasterThesis/SplittedImages6Classes/test'\n",
        "DATADIRVAL = '/content/MasterThesis/SplittedImages6Classes/val'\n",
        "CATEGORIES = ['Sitting','SittingPelvicRF','SittingPelvicRB','Standing','StandingPelvicRF','StandingPelvicRB']\n",
        "IMG_SIZE=299"
      ]
    },
    {
      "cell_type": "code",
      "execution_count": 4,
      "id": "9ffa056f",
      "metadata": {
        "id": "9ffa056f"
      },
      "outputs": [],
      "source": [
        "training_data=[]\n",
        "def create_training_data():\n",
        "    for category in CATEGORIES:\n",
        "        path=os.path.join(DATADIRTRAIN, category)\n",
        "        class_num=CATEGORIES.index(category)\n",
        "        for img in os.listdir(path):\n",
        "            try:\n",
        "                img_array=cv2.imread(os.path.join(path,img))\n",
        "                new_array=cv2.resize(img_array,(IMG_SIZE,IMG_SIZE))\n",
        "                training_data.append([new_array,class_num])\n",
        "            except Exception as e:\n",
        "                pass"
      ]
    },
    {
      "cell_type": "code",
      "execution_count": 5,
      "id": "8da181d8",
      "metadata": {
        "id": "8da181d8"
      },
      "outputs": [],
      "source": [
        "test_data=[]\n",
        "def create_test_data():\n",
        "    for category in CATEGORIES:\n",
        "        path=os.path.join(DATADIRTEST, category)\n",
        "        class_num=CATEGORIES.index(category)\n",
        "        for img in os.listdir(path):\n",
        "            try:\n",
        "                img_array=cv2.imread(os.path.join(path,img))\n",
        "                new_array=cv2.resize(img_array,(IMG_SIZE,IMG_SIZE))\n",
        "                test_data.append([new_array,class_num])\n",
        "            except Exception as e:\n",
        "                pass"
      ]
    },
    {
      "cell_type": "code",
      "execution_count": 6,
      "id": "4c8d539c",
      "metadata": {
        "id": "4c8d539c"
      },
      "outputs": [],
      "source": [
        "val_data=[]\n",
        "def create_val_data():\n",
        "    for category in CATEGORIES:\n",
        "        path=os.path.join(DATADIRVAL, category)\n",
        "        class_num=CATEGORIES.index(category)\n",
        "        for img in os.listdir(path):\n",
        "            try:\n",
        "                img_array=cv2.imread(os.path.join(path,img))\n",
        "                new_array=cv2.resize(img_array,(IMG_SIZE,IMG_SIZE))\n",
        "                val_data.append([new_array,class_num])\n",
        "            except Exception as e:\n",
        "                pass"
      ]
    },
    {
      "cell_type": "code",
      "execution_count": 7,
      "id": "b57de0e0",
      "metadata": {
        "id": "b57de0e0"
      },
      "outputs": [],
      "source": [
        "create_training_data()\n",
        "X_train=[]\n",
        "y_train=[]\n",
        "categories_train = []\n",
        "label_train = []\n",
        "for categories_train, label_train in training_data:\n",
        "    X_train.append(categories_train)\n",
        "    y_train.append(label_train)\n"
      ]
    },
    {
      "cell_type": "code",
      "execution_count": 8,
      "id": "0fe64122",
      "metadata": {
        "id": "0fe64122"
      },
      "outputs": [],
      "source": [
        "X_train1 = np.array(X_train)/255.0\n",
        "y_train = np.array(y_train)"
      ]
    },
    {
      "cell_type": "code",
      "execution_count": 9,
      "id": "d6981e0d",
      "metadata": {
        "id": "d6981e0d"
      },
      "outputs": [],
      "source": [
        "create_test_data()\n",
        "X_test=[]\n",
        "y_test=[]\n",
        "for categories_test, label_test in test_data:\n",
        "    X_test.append(categories_test)\n",
        "    y_test.append(label_test)"
      ]
    },
    {
      "cell_type": "code",
      "execution_count": 10,
      "id": "dfb21267",
      "metadata": {
        "id": "dfb21267"
      },
      "outputs": [],
      "source": [
        "X_test1 = np.array(X_test)/255.0"
      ]
    },
    {
      "cell_type": "code",
      "execution_count": 11,
      "id": "fbbfc2cd",
      "metadata": {
        "id": "fbbfc2cd"
      },
      "outputs": [],
      "source": [
        "create_val_data()\n",
        "X_val=[]\n",
        "y_val=[]\n",
        "for categories_val, label_val in val_data:\n",
        "    X_val.append(categories_val)\n",
        "    y_val.append(label_val)"
      ]
    },
    {
      "cell_type": "code",
      "execution_count": 12,
      "id": "888ea6f8",
      "metadata": {
        "id": "888ea6f8"
      },
      "outputs": [],
      "source": [
        "X_val1 = np.array(X_val)/255.0\n",
        "y_val = np.array(y_val)"
      ]
    },
    {
      "cell_type": "code",
      "execution_count": 14,
      "id": "d15ab8af",
      "metadata": {
        "colab": {
          "base_uri": "https://localhost:8080/"
        },
        "id": "d15ab8af",
        "outputId": "f6c47ed3-6e10-476f-92fd-84f44d3b4c85"
      },
      "outputs": [
        {
          "output_type": "stream",
          "name": "stdout",
          "text": [
            "(1440, 299, 299, 3)\n"
          ]
        }
      ],
      "source": [
        "print(X_train1.shape)"
      ]
    },
    {
      "cell_type": "code",
      "execution_count": 13,
      "id": "00b74f10",
      "metadata": {
        "colab": {
          "base_uri": "https://localhost:8080/"
        },
        "id": "00b74f10",
        "outputId": "1320424b-ab70-44f1-863d-5a1e0c37a651"
      },
      "outputs": [
        {
          "output_type": "stream",
          "name": "stdout",
          "text": [
            "1440\n"
          ]
        }
      ],
      "source": [
        "print(len(y_train))"
      ]
    },
    {
      "cell_type": "code",
      "execution_count": 15,
      "id": "Z3rqLU2rhw1q",
      "metadata": {
        "id": "Z3rqLU2rhw1q"
      },
      "outputs": [],
      "source": [
        "X_test = np.array(X_test)/255.0\n",
        "y_test = np.array(y_test)"
      ]
    },
    {
      "cell_type": "code",
      "execution_count": 16,
      "id": "f4e0ab39",
      "metadata": {
        "colab": {
          "base_uri": "https://localhost:8080/"
        },
        "id": "f4e0ab39",
        "outputId": "9e7cee5d-7bee-4732-8501-dd65a64ffa65"
      },
      "outputs": [
        {
          "output_type": "stream",
          "name": "stdout",
          "text": [
            "(1440, 299, 299, 3)\n",
            "Epoch 1/20\n",
            "90/90 [==============================] - 53s 232ms/step - loss: 0.8538 - accuracy: 0.7347 - val_loss: 10.7409 - val_accuracy: 0.5104\n",
            "Epoch 2/20\n",
            "90/90 [==============================] - 18s 200ms/step - loss: 0.2207 - accuracy: 0.9236 - val_loss: 1.6580 - val_accuracy: 0.5875\n",
            "Epoch 3/20\n",
            "90/90 [==============================] - 18s 199ms/step - loss: 0.0821 - accuracy: 0.9715 - val_loss: 1.4487 - val_accuracy: 0.7333\n",
            "Epoch 4/20\n",
            "90/90 [==============================] - 18s 199ms/step - loss: 0.0788 - accuracy: 0.9778 - val_loss: 0.5344 - val_accuracy: 0.8146\n",
            "Epoch 5/20\n",
            "90/90 [==============================] - 18s 200ms/step - loss: 0.0546 - accuracy: 0.9840 - val_loss: 0.9186 - val_accuracy: 0.8333\n",
            "Epoch 6/20\n",
            "90/90 [==============================] - 18s 200ms/step - loss: 0.0972 - accuracy: 0.9722 - val_loss: 0.0940 - val_accuracy: 0.9708\n",
            "Epoch 7/20\n",
            "90/90 [==============================] - 18s 200ms/step - loss: 0.0223 - accuracy: 0.9924 - val_loss: 0.0816 - val_accuracy: 0.9812\n",
            "Epoch 8/20\n",
            "90/90 [==============================] - 18s 200ms/step - loss: 0.0512 - accuracy: 0.9833 - val_loss: 0.0026 - val_accuracy: 1.0000\n",
            "Epoch 9/20\n",
            "90/90 [==============================] - 18s 199ms/step - loss: 0.0826 - accuracy: 0.9736 - val_loss: 0.2871 - val_accuracy: 0.9229\n",
            "Epoch 10/20\n",
            "90/90 [==============================] - 18s 199ms/step - loss: 0.0291 - accuracy: 0.9889 - val_loss: 0.0303 - val_accuracy: 0.9812\n",
            "Epoch 11/20\n",
            "90/90 [==============================] - 18s 200ms/step - loss: 0.0465 - accuracy: 0.9889 - val_loss: 0.0124 - val_accuracy: 0.9937\n",
            "Epoch 12/20\n",
            "90/90 [==============================] - 18s 200ms/step - loss: 0.0623 - accuracy: 0.9854 - val_loss: 3.2492 - val_accuracy: 0.4604\n",
            "Epoch 13/20\n",
            "90/90 [==============================] - 18s 199ms/step - loss: 0.0478 - accuracy: 0.9868 - val_loss: 1.3661 - val_accuracy: 0.6875\n",
            "Epoch 14/20\n",
            "90/90 [==============================] - 18s 200ms/step - loss: 0.0611 - accuracy: 0.9806 - val_loss: 0.8466 - val_accuracy: 0.7688\n",
            "Epoch 15/20\n",
            "90/90 [==============================] - 18s 199ms/step - loss: 0.0275 - accuracy: 0.9931 - val_loss: 0.0070 - val_accuracy: 0.9979\n",
            "Epoch 16/20\n",
            "90/90 [==============================] - 18s 200ms/step - loss: 0.0039 - accuracy: 0.9993 - val_loss: 5.6960e-04 - val_accuracy: 1.0000\n",
            "Epoch 17/20\n",
            "90/90 [==============================] - 18s 199ms/step - loss: 6.8210e-04 - accuracy: 1.0000 - val_loss: 2.4099e-04 - val_accuracy: 1.0000\n",
            "Epoch 18/20\n",
            "90/90 [==============================] - 18s 199ms/step - loss: 6.0450e-04 - accuracy: 1.0000 - val_loss: 1.3040e-04 - val_accuracy: 1.0000\n",
            "Epoch 19/20\n",
            "90/90 [==============================] - 18s 199ms/step - loss: 0.0021 - accuracy: 1.0000 - val_loss: 0.0273 - val_accuracy: 0.9937\n",
            "Epoch 20/20\n",
            "90/90 [==============================] - 18s 200ms/step - loss: 7.4539e-04 - accuracy: 1.0000 - val_loss: 0.0014 - val_accuracy: 1.0000\n"
          ]
        },
        {
          "output_type": "execute_result",
          "data": {
            "text/plain": [
              "<keras.src.callbacks.History at 0x79b98ab05570>"
            ]
          },
          "metadata": {},
          "execution_count": 16
        }
      ],
      "source": [
        "# Load pretrained Xception model\n",
        "xception = tf.keras.applications.Xception(weights='imagenet', include_top=True)\n",
        "xception.compile(optimizer='adam', loss='sparse_categorical_crossentropy', metrics=['accuracy'])\n",
        "#train_datagen = ImageDataGenerator()\n",
        "#train_datagen.fit(X_train)\n",
        "#xception.fit(train_datagen.flow(X_train, y_train, batch_size=32),\n",
        "#                    steps_per_epoch=len(x_train) / batch_size, epochs=10, verbose=1)\n",
        "print(X_train1.shape)\n",
        "xception.fit(X_train1, y_train,epochs=20,batch_size=16,validation_data=(X_val1, y_val))"
      ]
    },
    {
      "cell_type": "code",
      "execution_count": 17,
      "id": "3kVEDvSairiG",
      "metadata": {
        "colab": {
          "base_uri": "https://localhost:8080/"
        },
        "id": "3kVEDvSairiG",
        "outputId": "f3abf7e8-8e17-4786-dae3-81cc3d332464"
      },
      "outputs": [
        {
          "output_type": "stream",
          "name": "stdout",
          "text": [
            "15/15 [==============================] - 4s 127ms/step - loss: 5.0561e-04 - accuracy: 1.0000\n",
            "Test Loss: 0.0005056113004684448, Test Accuracy: 1.0\n"
          ]
        }
      ],
      "source": [
        "loss, accuracy = xception.evaluate(X_test, y_test)\n",
        "print(f'Test Loss: {loss}, Test Accuracy: {accuracy}')"
      ]
    },
    {
      "cell_type": "code",
      "execution_count": 18,
      "id": "f97b3104",
      "metadata": {
        "id": "f97b3104",
        "outputId": "6428d066-cc81-47a4-801a-d53b2a7f2df5",
        "colab": {
          "base_uri": "https://localhost:8080/",
          "height": 582
        }
      },
      "outputs": [
        {
          "output_type": "stream",
          "name": "stdout",
          "text": [
            "15/15 [==============================] - 3s 123ms/step\n"
          ]
        },
        {
          "output_type": "display_data",
          "data": {
            "text/plain": [
              "<Figure size 800x600 with 1 Axes>"
            ],
            "image/png": "[encoded data removed]"
          },
          "metadata": {}
        }
      ],
      "source": [
        "from sklearn.metrics import confusion_matrix\n",
        "import seaborn as sns\n",
        "import matplotlib.pyplot as plt\n",
        "\n",
        "# Assuming you already have trained your Xception model (xception) and have test data (X_test, y_test)\n",
        "\n",
        "# Make predictions on test data\n",
        "y_pred = xception.predict(X_test)\n",
        "# Convert probabilities to class labels\n",
        "y_pred_classes = y_pred.argmax(axis=-1)\n",
        "\n",
        "# Create confusion matrix\n",
        "cm = confusion_matrix(y_test, y_pred_classes)\n",
        "\n",
        "# Visualize confusion matrix using seaborn heatmap\n",
        "plt.figure(figsize=(8, 6))\n",
        "sns.heatmap(cm, annot=True, fmt=\"d\", cmap=\"Blues\", cbar=False)  # Normalize by row\n",
        "plt.xlabel(\"Predicted labels\")\n",
        "plt.ylabel(\"True labels\")\n",
        "plt.title(\"Confusion Matrix\")\n",
        "\n",
        "# Save the confusion matrix plot as an image file\n",
        "plt.savefig('confusion_matrix.png')\n",
        "\n",
        "plt.show()"
      ]
    }
  ],
  "metadata": {
    "accelerator": "GPU",
    "colab": {
      "provenance": [],
      "gpuType": "L4"
    },
    "kernelspec": {
      "display_name": "Python 3",
      "name": "python3"
    },
    "language_info": {
      "codemirror_mode": {
        "name": "ipython",
        "version": 3
      },
      "file_extension": ".py",
      "mimetype": "text/x-python",
      "name": "python",
      "nbconvert_exporter": "python",
      "pygments_lexer": "ipython3",
      "version": "3.9.7"
    }
  },
  "nbformat": 4,
  "nbformat_minor": 5
}
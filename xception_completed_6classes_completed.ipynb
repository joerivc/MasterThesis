{
  "cells": [
    {
      "cell_type": "code",
      "execution_count": 1,
      "id": "ee24e8e9",
      "metadata": {
        "id": "ee24e8e9"
      },
      "outputs": [],
      "source": [
        "import numpy as np # linear algebra\n",
        "import pandas as pd # data processing, CSV file I/O (e.g. pd.read_csv)\n",
        "\n",
        "# Input data files are available in the read-only \"../input/\" directory\n",
        "# For example, running this (by clicking run or pressing Shift+Enter) will list all files under the input directory\n",
        "\n",
        "import os\n",
        "for dirname, _, filenames in os.walk('/content/MasterThesis/SplittedImages6Classes'):\n",
        "    for filename in filenames:\n",
        "        os.path.join(dirname, filename)"
      ]
    },
    {
      "cell_type": "code",
      "source": [
        "!git clone https://github.com/joerivc/MasterThesis.git"
      ],
      "metadata": {
        "id": "63l1PfNSgy2K",
        "outputId": "f04371a2-3665-4718-d63e-3ed3c6291e89",
        "colab": {
          "base_uri": "https://localhost:8080/"
        }
      },
      "id": "63l1PfNSgy2K",
      "execution_count": 2,
      "outputs": [
        {
          "output_type": "stream",
          "name": "stdout",
          "text": [
            "Cloning into 'MasterThesis'...\n",
            "remote: Enumerating objects: 4189, done.\u001b[K\n",
            "remote: Counting objects: 100% (3/3), done.\u001b[K\n",
            "remote: Compressing objects: 100% (3/3), done.\u001b[K\n",
            "remote: Total 4189 (delta 0), reused 0 (delta 0), pack-reused 4186\u001b[K\n",
            "Receiving objects: 100% (4189/4189), 696.87 MiB | 43.54 MiB/s, done.\n",
            "Resolving deltas: 100% (63/63), done.\n",
            "Updating files: 100% (11615/11615), done.\n"
          ]
        }
      ]
    },
    {
      "cell_type": "code",
      "execution_count": 3,
      "id": "76842b84",
      "metadata": {
        "id": "76842b84"
      },
      "outputs": [],
      "source": [
        "import numpy as np\n",
        "import pandas as pd\n",
        "import matplotlib.pyplot as plt\n",
        "%matplotlib inline\n",
        "import cv2\n",
        "import os\n",
        "from tqdm import tqdm\n",
        "import tensorflow as tf\n",
        "from tensorflow.keras.preprocessing.image import ImageDataGenerator"
      ]
    },
    {
      "cell_type": "code",
      "execution_count": 4,
      "id": "469f7229",
      "metadata": {
        "id": "469f7229"
      },
      "outputs": [],
      "source": [
        "DATADIRTRAIN = '/content/MasterThesis/SplittedImages6Classes/train'\n",
        "DATADIRTEST = '/content/MasterThesis/SplittedImages6Classes/test'\n",
        "DATADIRVAL = '/content/MasterThesis/SplittedImages6Classes/val'\n",
        "CATEGORIES = ['Sitting','SittingPelvicRF','SittingPelvicRB','Standing','StandingPelvicRF','StandingPelvicRB']\n",
        "IMG_SIZE=299"
      ]
    },
    {
      "cell_type": "code",
      "execution_count": 5,
      "id": "9ffa056f",
      "metadata": {
        "id": "9ffa056f"
      },
      "outputs": [],
      "source": [
        "training_data=[]\n",
        "def create_training_data():\n",
        "    for category in CATEGORIES:\n",
        "        path=os.path.join(DATADIRTRAIN, category)\n",
        "        class_num=CATEGORIES.index(category)\n",
        "        for img in os.listdir(path):\n",
        "            try:\n",
        "                img_array=cv2.imread(os.path.join(path,img))\n",
        "                new_array=cv2.resize(img_array,(IMG_SIZE,IMG_SIZE))\n",
        "                training_data.append([new_array,class_num])\n",
        "            except Exception as e:\n",
        "                pass"
      ]
    },
    {
      "cell_type": "code",
      "execution_count": 6,
      "id": "8da181d8",
      "metadata": {
        "id": "8da181d8"
      },
      "outputs": [],
      "source": [
        "test_data=[]\n",
        "def create_test_data():\n",
        "    for category in CATEGORIES:\n",
        "        path=os.path.join(DATADIRTEST, category)\n",
        "        class_num=CATEGORIES.index(category)\n",
        "        for img in os.listdir(path):\n",
        "            try:\n",
        "                img_array=cv2.imread(os.path.join(path,img))\n",
        "                new_array=cv2.resize(img_array,(IMG_SIZE,IMG_SIZE))\n",
        "                test_data.append([new_array,class_num])\n",
        "            except Exception as e:\n",
        "                pass"
      ]
    },
    {
      "cell_type": "code",
      "execution_count": 7,
      "id": "4c8d539c",
      "metadata": {
        "id": "4c8d539c"
      },
      "outputs": [],
      "source": [
        "val_data=[]\n",
        "def create_val_data():\n",
        "    for category in CATEGORIES:\n",
        "        path=os.path.join(DATADIRVAL, category)\n",
        "        class_num=CATEGORIES.index(category)\n",
        "        for img in os.listdir(path):\n",
        "            try:\n",
        "                img_array=cv2.imread(os.path.join(path,img))\n",
        "                new_array=cv2.resize(img_array,(IMG_SIZE,IMG_SIZE))\n",
        "                val_data.append([new_array,class_num])\n",
        "            except Exception as e:\n",
        "                pass"
      ]
    },
    {
      "cell_type": "code",
      "execution_count": 8,
      "id": "b57de0e0",
      "metadata": {
        "id": "b57de0e0"
      },
      "outputs": [],
      "source": [
        "create_training_data()\n",
        "X_train=[]\n",
        "y_train=[]\n",
        "categories_train = []\n",
        "label_train = []\n",
        "for categories_train, label_train in training_data:\n",
        "    X_train.append(categories_train)\n",
        "    y_train.append(label_train)\n"
      ]
    },
    {
      "cell_type": "code",
      "execution_count": 9,
      "id": "0fe64122",
      "metadata": {
        "id": "0fe64122"
      },
      "outputs": [],
      "source": [
        "X_train1 = np.array(X_train)/255.0\n",
        "y_train = np.array(y_train)"
      ]
    },
    {
      "cell_type": "code",
      "execution_count": 10,
      "id": "d6981e0d",
      "metadata": {
        "id": "d6981e0d"
      },
      "outputs": [],
      "source": [
        "create_test_data()\n",
        "X_test=[]\n",
        "y_test=[]\n",
        "for categories_test, label_test in test_data:\n",
        "    X_test.append(categories_test)\n",
        "    y_test.append(label_test)"
      ]
    },
    {
      "cell_type": "code",
      "execution_count": 11,
      "id": "dfb21267",
      "metadata": {
        "id": "dfb21267"
      },
      "outputs": [],
      "source": [
        "X_test1 = np.array(X_test)/255.0"
      ]
    },
    {
      "cell_type": "code",
      "execution_count": 12,
      "id": "fbbfc2cd",
      "metadata": {
        "id": "fbbfc2cd"
      },
      "outputs": [],
      "source": [
        "create_val_data()\n",
        "X_val=[]\n",
        "y_val=[]\n",
        "for categories_val, label_val in val_data:\n",
        "    X_val.append(categories_val)\n",
        "    y_val.append(label_val)"
      ]
    },
    {
      "cell_type": "code",
      "execution_count": 13,
      "id": "888ea6f8",
      "metadata": {
        "id": "888ea6f8"
      },
      "outputs": [],
      "source": [
        "X_val1 = np.array(X_val)/255.0\n",
        "y_val = np.array(y_val)"
      ]
    },
    {
      "cell_type": "code",
      "execution_count": 14,
      "id": "d15ab8af",
      "metadata": {
        "id": "d15ab8af",
        "outputId": "25ec9ee9-8a32-4243-8c28-68d5ffa48132",
        "colab": {
          "base_uri": "https://localhost:8080/"
        }
      },
      "outputs": [
        {
          "output_type": "stream",
          "name": "stdout",
          "text": [
            "(1440, 299, 299, 3)\n"
          ]
        }
      ],
      "source": [
        "print(X_train1.shape)"
      ]
    },
    {
      "cell_type": "code",
      "execution_count": 15,
      "id": "00b74f10",
      "metadata": {
        "id": "00b74f10",
        "outputId": "9541edce-dae6-4826-8cff-aa3c7f697318",
        "colab": {
          "base_uri": "https://localhost:8080/"
        }
      },
      "outputs": [
        {
          "output_type": "stream",
          "name": "stdout",
          "text": [
            "1440\n"
          ]
        }
      ],
      "source": [
        "print(len(y_train))"
      ]
    },
    {
      "cell_type": "code",
      "source": [
        "X_test = np.array(X_test)/255.0\n",
        "y_test = np.array(y_test)"
      ],
      "metadata": {
        "id": "Z3rqLU2rhw1q"
      },
      "id": "Z3rqLU2rhw1q",
      "execution_count": 16,
      "outputs": []
    },
    {
      "cell_type": "code",
      "execution_count": 20,
      "id": "f4e0ab39",
      "metadata": {
        "id": "f4e0ab39",
        "outputId": "78215944-ddfe-46c9-ef3d-1214ddbd5ed7",
        "colab": {
          "base_uri": "https://localhost:8080/"
        }
      },
      "outputs": [
        {
          "output_type": "stream",
          "name": "stdout",
          "text": [
            "(1440, 299, 299, 3)\n",
            "Epoch 1/17\n",
            "90/90 [==============================] - 39s 211ms/step - loss: 0.7649 - accuracy: 0.7889 - val_loss: 4.6736 - val_accuracy: 0.7000\n",
            "Epoch 2/17\n",
            "90/90 [==============================] - 17s 192ms/step - loss: 0.1875 - accuracy: 0.9417 - val_loss: 0.7699 - val_accuracy: 0.8792\n",
            "Epoch 3/17\n",
            "90/90 [==============================] - 17s 193ms/step - loss: 0.1543 - accuracy: 0.9521 - val_loss: 0.7884 - val_accuracy: 0.8062\n",
            "Epoch 4/17\n",
            "90/90 [==============================] - 17s 194ms/step - loss: 0.0583 - accuracy: 0.9833 - val_loss: 0.1814 - val_accuracy: 0.9500\n",
            "Epoch 5/17\n",
            "90/90 [==============================] - 18s 195ms/step - loss: 0.0657 - accuracy: 0.9799 - val_loss: 0.6344 - val_accuracy: 0.8833\n",
            "Epoch 6/17\n",
            "90/90 [==============================] - 18s 195ms/step - loss: 0.0674 - accuracy: 0.9806 - val_loss: 1.3788 - val_accuracy: 0.6562\n",
            "Epoch 7/17\n",
            "90/90 [==============================] - 18s 195ms/step - loss: 0.0678 - accuracy: 0.9819 - val_loss: 0.1916 - val_accuracy: 0.9479\n",
            "Epoch 8/17\n",
            "90/90 [==============================] - 18s 195ms/step - loss: 0.0079 - accuracy: 0.9993 - val_loss: 0.0042 - val_accuracy: 1.0000\n",
            "Epoch 9/17\n",
            "90/90 [==============================] - 18s 196ms/step - loss: 0.0086 - accuracy: 0.9979 - val_loss: 8.2059e-04 - val_accuracy: 1.0000\n",
            "Epoch 10/17\n",
            "90/90 [==============================] - 18s 196ms/step - loss: 0.0316 - accuracy: 0.9910 - val_loss: 0.6559 - val_accuracy: 0.7771\n",
            "Epoch 11/17\n",
            "90/90 [==============================] - 18s 197ms/step - loss: 0.0666 - accuracy: 0.9812 - val_loss: 0.4420 - val_accuracy: 0.8396\n",
            "Epoch 12/17\n",
            "90/90 [==============================] - 18s 197ms/step - loss: 0.0292 - accuracy: 0.9931 - val_loss: 0.1276 - val_accuracy: 0.9646\n",
            "Epoch 13/17\n",
            "90/90 [==============================] - 18s 198ms/step - loss: 0.0106 - accuracy: 0.9951 - val_loss: 0.1244 - val_accuracy: 0.9646\n",
            "Epoch 14/17\n",
            "90/90 [==============================] - 18s 198ms/step - loss: 0.0769 - accuracy: 0.9743 - val_loss: 3.4268 - val_accuracy: 0.5021\n",
            "Epoch 15/17\n",
            "90/90 [==============================] - 18s 198ms/step - loss: 0.0250 - accuracy: 0.9903 - val_loss: 3.9640 - val_accuracy: 0.6729\n",
            "Epoch 16/17\n",
            "90/90 [==============================] - 18s 198ms/step - loss: 0.0634 - accuracy: 0.9806 - val_loss: 3.2546 - val_accuracy: 0.5125\n",
            "Epoch 17/17\n",
            "90/90 [==============================] - 18s 198ms/step - loss: 0.0036 - accuracy: 1.0000 - val_loss: 6.6383e-04 - val_accuracy: 1.0000\n"
          ]
        },
        {
          "output_type": "execute_result",
          "data": {
            "text/plain": [
              "<keras.src.callbacks.History at 0x798e049d9270>"
            ]
          },
          "metadata": {},
          "execution_count": 20
        }
      ],
      "source": [
        "# Load pretrained Xception model\n",
        "xception = tf.keras.applications.Xception(weights='imagenet', include_top=True)\n",
        "xception.compile(optimizer='adam', loss='sparse_categorical_crossentropy', metrics=['accuracy'])\n",
        "#train_datagen = ImageDataGenerator()\n",
        "#train_datagen.fit(X_train)\n",
        "#xception.fit(train_datagen.flow(X_train, y_train, batch_size=32),\n",
        "#                    steps_per_epoch=len(x_train) / batch_size, epochs=10, verbose=1)\n",
        "print(X_train1.shape)\n",
        "xception.fit(X_train1, y_train,epochs=17,batch_size=16,validation_data=(X_val1, y_val))"
      ]
    },
    {
      "cell_type": "code",
      "source": [
        "loss, accuracy = xception.evaluate(X_test, y_test)\n",
        "print(f'Test Loss: {loss}, Test Accuracy: {accuracy}')"
      ],
      "metadata": {
        "id": "3kVEDvSairiG",
        "outputId": "e5bbb862-7001-47ec-9625-6530e1b2cb25",
        "colab": {
          "base_uri": "https://localhost:8080/"
        }
      },
      "id": "3kVEDvSairiG",
      "execution_count": 21,
      "outputs": [
        {
          "output_type": "stream",
          "name": "stdout",
          "text": [
            "15/15 [==============================] - 3s 124ms/step - loss: 9.0885e-04 - accuracy: 1.0000\n",
            "Test Loss: 0.0009088545921258628, Test Accuracy: 1.0\n"
          ]
        }
      ]
    },
    {
      "cell_type": "code",
      "execution_count": 22,
      "id": "f97b3104",
      "metadata": {
        "id": "f97b3104",
        "outputId": "5756ebf9-1da7-456d-e416-7df99f5d2748",
        "colab": {
          "base_uri": "https://localhost:8080/",
          "height": 626
        }
      },
      "outputs": [
        {
          "output_type": "stream",
          "name": "stdout",
          "text": [
            "15/15 [==============================] - 2s 121ms/step\n"
          ]
        },
        {
          "output_type": "display_data",
          "data": {
            "text/plain": [
              "<Figure size 1000x800 with 2 Axes>"
            ],
            "image/png": "[encoded data removed]"
          },
          "metadata": {}
        }
      ],
      "source": [
        "from sklearn.metrics import confusion_matrix\n",
        "import numpy as np\n",
        "import matplotlib.pyplot as plt\n",
        "import seaborn as sns\n",
        "\n",
        "# Assuming 'X_test' contains the test data and 'y_test' contains the true labels\n",
        "\n",
        "# Make predictions on the test data\n",
        "predictions = xception.predict(X_test)\n",
        "\n",
        "# Convert predicted probabilities to class labels\n",
        "predicted_labels = np.argmax(predictions, axis=1)\n",
        "\n",
        "# Create a confusion matrix\n",
        "cm = confusion_matrix(y_test, predicted_labels)\n",
        "\n",
        "# Visualize the confusion matrix\n",
        "plt.figure(figsize=(10, 8))\n",
        "sns.heatmap(cm, annot=True, fmt='d', cmap='Blues')\n",
        "plt.xlabel('Predicted')\n",
        "plt.ylabel('True')\n",
        "plt.title('Confusion Matrix')\n",
        "plt.savefig('confusion_matrix_xception_6classes.png')\n",
        "plt.show()"
      ]
    }
  ],
  "metadata": {
    "kernelspec": {
      "display_name": "Python 3",
      "name": "python3"
    },
    "language_info": {
      "codemirror_mode": {
        "name": "ipython",
        "version": 3
      },
      "file_extension": ".py",
      "mimetype": "text/x-python",
      "name": "python",
      "nbconvert_exporter": "python",
      "pygments_lexer": "ipython3",
      "version": "3.9.7"
    },
    "colab": {
      "provenance": [],
      "gpuType": "L4"
    },
    "accelerator": "GPU"
  },
  "nbformat": 4,
  "nbformat_minor": 5
}
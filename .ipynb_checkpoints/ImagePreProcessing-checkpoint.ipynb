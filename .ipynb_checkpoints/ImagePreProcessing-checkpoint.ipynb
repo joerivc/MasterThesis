{
 "cells": [
  {
   "cell_type": "code",
   "execution_count": 1,
   "id": "6b3d68f1",
   "metadata": {},
   "outputs": [
    {
     "name": "stdout",
     "output_type": "stream",
     "text": [
      "Requirement already satisfied: opencv-python in c:\\users\\joeri van cauwelaert\\anaconda3\\lib\\site-packages (4.9.0.80)Note: you may need to restart the kernel to use updated packages.\n",
      "Requirement already satisfied: numpy>=1.19.3 in c:\\users\\joeri van cauwelaert\\anaconda3\\lib\\site-packages (from opencv-python) (1.20.3)\n",
      "\n"
     ]
    }
   ],
   "source": [
    "pip install opencv-python"
   ]
  },
  {
   "cell_type": "code",
   "execution_count": 39,
   "id": "0ce6f335",
   "metadata": {},
   "outputs": [],
   "source": [
    "import cv2\n",
    "\n",
    "# Load the Haar cascade classifier for person detection\n",
    "cascade_path = 'C:\\\\Users\\\\Joeri Van Cauwelaert\\\\Desktop\\\\Masterthesis\\\\machineLearning\\\\haarcascade_profileface.xml'  # Replace with the actual path\n",
    "person_cascade = cv2.CascadeClassifier(cascade_path)\n",
    "\n",
    "# Load the image\n",
    "image = cv2.imread('C:\\\\Users\\\\Joeri Van Cauwelaert\\\\Desktop\\\\Masterthesis\\\\machineLearning\\\\Images\\\\StandingPelvicR\\\\StandingPelvicR20010.png')\n",
    "\n",
    "# Convert the image to grayscale for faster processing\n",
    "gray_image = cv2.cvtColor(image, cv2.COLOR_BGR2GRAY)\n",
    "\n",
    "# Detect persons in the image using the Haar cascade classifier\n",
    "persons = person_cascade.detectMultiScale(gray_image, scaleFactor=1.2, minNeighbors=1, minSize=(50, 50))\n",
    "\n",
    "# Draw rectangles around the detected persons\n",
    "for (x, y, w, h) in persons:\n",
    "    cropped_image = image[0:480, x-120:x + 120]\n",
    "    # Save the cropped image with a unique filename\n",
    "    cv2.imwrite(f'cropped_person_test.png', cropped_image)\n",
    "    cv2.rectangle(image, (x-120, 0), (x + w + 80, 480), (0, 255, 0), 2)\n",
    "\n",
    "# Display the image with person detection\n",
    "cv2.imshow('Detected Persons', image)\n",
    "cv2.waitKey(0)\n",
    "cv2.destroyAllWindows()"
   ]
  },
  {
   "cell_type": "code",
   "execution_count": null,
   "id": "e4e50445",
   "metadata": {},
   "outputs": [],
   "source": []
  },
  {
   "cell_type": "code",
   "execution_count": null,
   "id": "1b1d600b",
   "metadata": {},
   "outputs": [],
   "source": []
  }
 ],
 "metadata": {
  "kernelspec": {
   "display_name": "Python 3 (ipykernel)",
   "language": "python",
   "name": "python3"
  },
  "language_info": {
   "codemirror_mode": {
    "name": "ipython",
    "version": 3
   },
   "file_extension": ".py",
   "mimetype": "text/x-python",
   "name": "python",
   "nbconvert_exporter": "python",
   "pygments_lexer": "ipython3",
   "version": "3.9.7"
  }
 },
 "nbformat": 4,
 "nbformat_minor": 5
}

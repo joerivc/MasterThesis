{
  "cells": [
    {
      "cell_type": "code",
      "execution_count": 1,
      "id": "ee24e8e9",
      "metadata": {
        "id": "ee24e8e9"
      },
      "outputs": [],
      "source": [
        "import numpy as np # linear algebra\n",
        "import pandas as pd # data processing, CSV file I/O (e.g. pd.read_csv)\n",
        "\n",
        "# Input data files are available in the read-only \"../input/\" directory\n",
        "# For example, running this (by clicking run or pressing Shift+Enter) will list all files under the input directory\n",
        "\n",
        "import os\n",
        "for dirname, _, filenames in os.walk('/content/MasterThesis/Images4ClassesPerPerson'):\n",
        "    for filename in filenames:\n",
        "        os.path.join(dirname, filename)"
      ]
    },
    {
      "cell_type": "code",
      "execution_count": 2,
      "id": "63l1PfNSgy2K",
      "metadata": {
        "colab": {
          "base_uri": "https://localhost:8080/"
        },
        "id": "63l1PfNSgy2K",
        "outputId": "31daa540-a37a-4d60-ed2a-f82eefa74671"
      },
      "outputs": [
        {
          "output_type": "stream",
          "name": "stdout",
          "text": [
            "Cloning into 'MasterThesis'...\n",
            "remote: Enumerating objects: 6792, done.\u001b[K\n",
            "remote: Counting objects: 100% (30/30), done.\u001b[K\n",
            "remote: Compressing objects: 100% (22/22), done.\u001b[K\n",
            "remote: Total 6792 (delta 18), reused 12 (delta 8), pack-reused 6762\u001b[K\n",
            "Receiving objects: 100% (6792/6792), 1.21 GiB | 14.86 MiB/s, done.\n",
            "Resolving deltas: 100% (210/210), done.\n",
            "Updating files: 100% (40451/40451), done.\n"
          ]
        }
      ],
      "source": [
        "!git clone https://github.com/joerivc/MasterThesis.git"
      ]
    },
    {
      "cell_type": "code",
      "execution_count": 3,
      "id": "76842b84",
      "metadata": {
        "id": "76842b84"
      },
      "outputs": [],
      "source": [
        "import numpy as np\n",
        "import pandas as pd\n",
        "import matplotlib.pyplot as plt\n",
        "%matplotlib inline\n",
        "import cv2\n",
        "import os\n",
        "from tqdm import tqdm\n",
        "import tensorflow as tf\n",
        "from tensorflow.keras.preprocessing.image import ImageDataGenerator"
      ]
    },
    {
      "cell_type": "code",
      "execution_count": 4,
      "id": "469f7229",
      "metadata": {
        "id": "469f7229"
      },
      "outputs": [],
      "source": [
        "DATADIRTRAIN = '/content/MasterThesis/Images4ClassesPerPerson/train'\n",
        "DATADIRTEST = '/content/MasterThesis/Images4ClassesPerPerson/test'\n",
        "DATADIRVAL = '/content/MasterThesis/Images4ClassesPerPerson/val'\n",
        "CATEGORIES = ['Sitting','SittingPelvicR','Standing','StandingPelvicR']\n",
        "IMG_SIZE=299"
      ]
    },
    {
      "cell_type": "code",
      "execution_count": 5,
      "id": "9ffa056f",
      "metadata": {
        "id": "9ffa056f"
      },
      "outputs": [],
      "source": [
        "training_data=[]\n",
        "def create_training_data():\n",
        "    for category in CATEGORIES:\n",
        "        path=os.path.join(DATADIRTRAIN, category)\n",
        "        class_num=CATEGORIES.index(category)\n",
        "        for img in os.listdir(path):\n",
        "            try:\n",
        "                img_array=cv2.imread(os.path.join(path,img))\n",
        "                new_array=cv2.resize(img_array,(IMG_SIZE,IMG_SIZE))\n",
        "                training_data.append([new_array,class_num])\n",
        "            except Exception as e:\n",
        "                pass"
      ]
    },
    {
      "cell_type": "code",
      "execution_count": 6,
      "id": "8da181d8",
      "metadata": {
        "id": "8da181d8"
      },
      "outputs": [],
      "source": [
        "test_data=[]\n",
        "def create_test_data():\n",
        "    for category in CATEGORIES:\n",
        "        path=os.path.join(DATADIRTEST, category)\n",
        "        class_num=CATEGORIES.index(category)\n",
        "        for img in os.listdir(path):\n",
        "            try:\n",
        "                img_array=cv2.imread(os.path.join(path,img))\n",
        "                new_array=cv2.resize(img_array,(IMG_SIZE,IMG_SIZE))\n",
        "                test_data.append([new_array,class_num])\n",
        "            except Exception as e:\n",
        "                pass"
      ]
    },
    {
      "cell_type": "code",
      "execution_count": 7,
      "id": "4c8d539c",
      "metadata": {
        "id": "4c8d539c"
      },
      "outputs": [],
      "source": [
        "val_data=[]\n",
        "def create_val_data():\n",
        "    for category in CATEGORIES:\n",
        "        path=os.path.join(DATADIRVAL, category)\n",
        "        class_num=CATEGORIES.index(category)\n",
        "        for img in os.listdir(path):\n",
        "            try:\n",
        "                img_array=cv2.imread(os.path.join(path,img))\n",
        "                new_array=cv2.resize(img_array,(IMG_SIZE,IMG_SIZE))\n",
        "                val_data.append([new_array,class_num])\n",
        "            except Exception as e:\n",
        "                pass"
      ]
    },
    {
      "cell_type": "code",
      "execution_count": 8,
      "id": "b57de0e0",
      "metadata": {
        "id": "b57de0e0"
      },
      "outputs": [],
      "source": [
        "create_training_data()\n",
        "X_train=[]\n",
        "y_train=[]\n",
        "categories_train = []\n",
        "label_train = []\n",
        "for categories_train, label_train in training_data:\n",
        "    X_train.append(categories_train)\n",
        "    y_train.append(label_train)\n"
      ]
    },
    {
      "cell_type": "code",
      "execution_count": 9,
      "id": "0fe64122",
      "metadata": {
        "id": "0fe64122"
      },
      "outputs": [],
      "source": [
        "X_train1 = np.array(X_train)/255.0\n",
        "y_train = np.array(y_train)"
      ]
    },
    {
      "cell_type": "code",
      "execution_count": 10,
      "id": "d6981e0d",
      "metadata": {
        "id": "d6981e0d"
      },
      "outputs": [],
      "source": [
        "create_test_data()\n",
        "X_test=[]\n",
        "y_test=[]\n",
        "for categories_test, label_test in test_data:\n",
        "    X_test.append(categories_test)\n",
        "    y_test.append(label_test)"
      ]
    },
    {
      "cell_type": "code",
      "execution_count": 11,
      "id": "dfb21267",
      "metadata": {
        "id": "dfb21267"
      },
      "outputs": [],
      "source": [
        "X_test1 = np.array(X_test)/255.0"
      ]
    },
    {
      "cell_type": "code",
      "execution_count": 12,
      "id": "fbbfc2cd",
      "metadata": {
        "id": "fbbfc2cd"
      },
      "outputs": [],
      "source": [
        "create_val_data()\n",
        "X_val=[]\n",
        "y_val=[]\n",
        "for categories_val, label_val in val_data:\n",
        "    X_val.append(categories_val)\n",
        "    y_val.append(label_val)"
      ]
    },
    {
      "cell_type": "code",
      "execution_count": 13,
      "id": "888ea6f8",
      "metadata": {
        "id": "888ea6f8"
      },
      "outputs": [],
      "source": [
        "X_val1 = np.array(X_val)/255.0\n",
        "y_val = np.array(y_val)"
      ]
    },
    {
      "cell_type": "code",
      "execution_count": 14,
      "id": "d15ab8af",
      "metadata": {
        "colab": {
          "base_uri": "https://localhost:8080/"
        },
        "id": "d15ab8af",
        "outputId": "ba921656-dfb3-45e7-9610-31a08f8beebf"
      },
      "outputs": [
        {
          "output_type": "stream",
          "name": "stdout",
          "text": [
            "(1440, 299, 299, 3)\n"
          ]
        }
      ],
      "source": [
        "print(X_train1.shape)"
      ]
    },
    {
      "cell_type": "code",
      "execution_count": 15,
      "id": "00b74f10",
      "metadata": {
        "colab": {
          "base_uri": "https://localhost:8080/"
        },
        "id": "00b74f10",
        "outputId": "f674b88f-406a-4421-d36f-af619cd3a23d"
      },
      "outputs": [
        {
          "output_type": "stream",
          "name": "stdout",
          "text": [
            "1440\n"
          ]
        }
      ],
      "source": [
        "print(len(y_train))"
      ]
    },
    {
      "cell_type": "code",
      "execution_count": 16,
      "id": "Z3rqLU2rhw1q",
      "metadata": {
        "id": "Z3rqLU2rhw1q"
      },
      "outputs": [],
      "source": [
        "X_test = np.array(X_test)/255.0\n",
        "y_test = np.array(y_test)"
      ]
    },
    {
      "cell_type": "code",
      "execution_count": 17,
      "id": "f4e0ab39",
      "metadata": {
        "colab": {
          "base_uri": "https://localhost:8080/"
        },
        "id": "f4e0ab39",
        "outputId": "dcd698ee-c418-45ae-c561-6d46c5a8119e"
      },
      "outputs": [
        {
          "output_type": "stream",
          "name": "stdout",
          "text": [
            "Downloading data from https://storage.googleapis.com/tensorflow/keras-applications/xception/xception_weights_tf_dim_ordering_tf_kernels.h5\n",
            "91884032/91884032 [==============================] - 5s 0us/step\n",
            "(1440, 299, 299, 3)\n",
            "Epoch 1/20\n",
            "90/90 [==============================] - 50s 222ms/step - loss: 0.5615 - accuracy: 0.8118 - val_loss: 16.6530 - val_accuracy: 0.3562\n",
            "Epoch 2/20\n",
            "90/90 [==============================] - 17s 192ms/step - loss: 0.1388 - accuracy: 0.9569 - val_loss: 3.4606 - val_accuracy: 0.5875\n",
            "Epoch 3/20\n",
            "90/90 [==============================] - 17s 194ms/step - loss: 0.0454 - accuracy: 0.9847 - val_loss: 2.3381 - val_accuracy: 0.5000\n",
            "Epoch 4/20\n",
            "90/90 [==============================] - 18s 196ms/step - loss: 0.0171 - accuracy: 0.9958 - val_loss: 3.8447 - val_accuracy: 0.5354\n",
            "Epoch 5/20\n",
            "90/90 [==============================] - 18s 198ms/step - loss: 0.0049 - accuracy: 0.9986 - val_loss: 2.3916 - val_accuracy: 0.4896\n",
            "Epoch 6/20\n",
            "90/90 [==============================] - 18s 197ms/step - loss: 0.0015 - accuracy: 1.0000 - val_loss: 1.8020 - val_accuracy: 0.6250\n",
            "Epoch 7/20\n",
            "90/90 [==============================] - 18s 196ms/step - loss: 3.4607e-04 - accuracy: 1.0000 - val_loss: 1.9721 - val_accuracy: 0.6104\n",
            "Epoch 8/20\n",
            "90/90 [==============================] - 18s 195ms/step - loss: 3.5997e-04 - accuracy: 1.0000 - val_loss: 3.5067 - val_accuracy: 0.5042\n",
            "Epoch 9/20\n",
            "90/90 [==============================] - 18s 196ms/step - loss: 1.8711e-04 - accuracy: 1.0000 - val_loss: 2.5033 - val_accuracy: 0.5792\n",
            "Epoch 10/20\n",
            "90/90 [==============================] - 18s 197ms/step - loss: 1.3347e-04 - accuracy: 1.0000 - val_loss: 2.4694 - val_accuracy: 0.5813\n",
            "Epoch 11/20\n",
            "90/90 [==============================] - 18s 197ms/step - loss: 1.5450e-04 - accuracy: 1.0000 - val_loss: 2.5516 - val_accuracy: 0.5583\n",
            "Epoch 12/20\n",
            "90/90 [==============================] - 18s 196ms/step - loss: 1.3584e-04 - accuracy: 1.0000 - val_loss: 2.3226 - val_accuracy: 0.5979\n",
            "Epoch 13/20\n",
            "90/90 [==============================] - 18s 196ms/step - loss: 1.9154e-04 - accuracy: 1.0000 - val_loss: 3.2696 - val_accuracy: 0.5063\n",
            "Epoch 14/20\n",
            "90/90 [==============================] - 18s 196ms/step - loss: 1.8159e-04 - accuracy: 1.0000 - val_loss: 2.8934 - val_accuracy: 0.5562\n",
            "Epoch 15/20\n",
            "90/90 [==============================] - 18s 196ms/step - loss: 1.0470e-04 - accuracy: 1.0000 - val_loss: 2.7319 - val_accuracy: 0.5479\n",
            "Epoch 16/20\n",
            "90/90 [==============================] - 18s 196ms/step - loss: 6.4772e-05 - accuracy: 1.0000 - val_loss: 2.7811 - val_accuracy: 0.5417\n",
            "Epoch 17/20\n",
            "90/90 [==============================] - 18s 197ms/step - loss: 1.5421e-04 - accuracy: 1.0000 - val_loss: 3.4542 - val_accuracy: 0.5063\n",
            "Epoch 18/20\n",
            "90/90 [==============================] - 18s 196ms/step - loss: 9.2892e-05 - accuracy: 1.0000 - val_loss: 2.9317 - val_accuracy: 0.5104\n",
            "Epoch 19/20\n",
            "90/90 [==============================] - 18s 196ms/step - loss: 3.5087e-05 - accuracy: 1.0000 - val_loss: 2.9946 - val_accuracy: 0.5125\n",
            "Epoch 20/20\n",
            "90/90 [==============================] - 18s 196ms/step - loss: 3.2955e-05 - accuracy: 1.0000 - val_loss: 3.0031 - val_accuracy: 0.5229\n"
          ]
        },
        {
          "output_type": "execute_result",
          "data": {
            "text/plain": [
              "<keras.src.callbacks.History at 0x7fdbfbecb880>"
            ]
          },
          "metadata": {},
          "execution_count": 17
        }
      ],
      "source": [
        "# Load pretrained Xception model\n",
        "xception = tf.keras.applications.Xception(weights='imagenet', include_top=True)\n",
        "xception.compile(optimizer='adam', loss='sparse_categorical_crossentropy', metrics=['accuracy'])\n",
        "#train_datagen = ImageDataGenerator()\n",
        "#train_datagen.fit(X_train)\n",
        "#xception.fit(train_datagen.flow(X_train, y_train, batch_size=32),\n",
        "#                    steps_per_epoch=len(x_train) / batch_size, epochs=10, verbose=1)\n",
        "print(X_train1.shape)\n",
        "xception.fit(X_train1, y_train,epochs=20,batch_size=16,validation_data=(X_val1, y_val))"
      ]
    },
    {
      "cell_type": "code",
      "execution_count": 18,
      "id": "3kVEDvSairiG",
      "metadata": {
        "colab": {
          "base_uri": "https://localhost:8080/"
        },
        "id": "3kVEDvSairiG",
        "outputId": "9b89cd78-2aa5-47be-f432-8a891139f60e"
      },
      "outputs": [
        {
          "output_type": "stream",
          "name": "stdout",
          "text": [
            "15/15 [==============================] - 4s 125ms/step - loss: 3.4443 - accuracy: 0.6000\n",
            "Test Loss: 3.444291353225708, Test Accuracy: 0.6000000238418579\n"
          ]
        }
      ],
      "source": [
        "loss, accuracy = xception.evaluate(X_test, y_test)\n",
        "print(f'Test Loss: {loss}, Test Accuracy: {accuracy}')"
      ]
    },
    {
      "cell_type": "code",
      "execution_count": 21,
      "id": "f97b3104",
      "metadata": {
        "id": "f97b3104",
        "outputId": "8d54983c-c600-45c5-ddf9-7abbb5f11aaa",
        "colab": {
          "base_uri": "https://localhost:8080/",
          "height": 582
        }
      },
      "outputs": [
        {
          "output_type": "stream",
          "name": "stdout",
          "text": [
            "15/15 [==============================] - 2s 124ms/step\n"
          ]
        },
        {
          "output_type": "display_data",
          "data": {
            "text/plain": [
              "<Figure size 800x600 with 1 Axes>"
            ],
            "image/png": "[encoded data removed]"
          },
          "metadata": {}
        }
      ],
      "source": [
        "from sklearn.metrics import confusion_matrix\n",
        "import seaborn as sns\n",
        "import matplotlib.pyplot as plt\n",
        "\n",
        "# Assuming you already have trained your Xception model (xception) and have test data (X_test, y_test)\n",
        "\n",
        "# Make predictions on test data\n",
        "y_pred = xception.predict(X_test)\n",
        "# Convert probabilities to class labels\n",
        "y_pred_classes = y_pred.argmax(axis=-1)\n",
        "\n",
        "# Create confusion matrix\n",
        "cm = confusion_matrix(y_test, y_pred_classes)\n",
        "\n",
        "# Visualize confusion matrix using seaborn heatmap\n",
        "plt.figure(figsize=(8, 6))\n",
        "sns.heatmap(cm, annot=True, fmt=\"d\", cmap=\"Blues\", cbar=False)  # Normalize by row\n",
        "plt.xlabel(\"Predicted labels\")\n",
        "plt.ylabel(\"True labels\")\n",
        "plt.title(\"Confusion Matrix\")\n",
        "\n",
        "# Save the confusion matrix plot as an image file\n",
        "plt.savefig('confusion_matrix.png')\n",
        "\n",
        "plt.show()"
      ]
    }
  ],
  "metadata": {
    "accelerator": "GPU",
    "colab": {
      "provenance": [],
      "gpuType": "L4"
    },
    "kernelspec": {
      "display_name": "Python 3",
      "name": "python3"
    },
    "language_info": {
      "codemirror_mode": {
        "name": "ipython",
        "version": 3
      },
      "file_extension": ".py",
      "mimetype": "text/x-python",
      "name": "python",
      "nbconvert_exporter": "python",
      "pygments_lexer": "ipython3",
      "version": "3.9.7"
    }
  },
  "nbformat": 4,
  "nbformat_minor": 5
}
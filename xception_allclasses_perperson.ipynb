{
  "cells": [
    {
      "cell_type": "code",
      "execution_count": 1,
      "id": "ee24e8e9",
      "metadata": {
        "id": "ee24e8e9"
      },
      "outputs": [],
      "source": [
        "import numpy as np # linear algebra\n",
        "import pandas as pd # data processing, CSV file I/O (e.g. pd.read_csv)\n",
        "\n",
        "# Input data files are available in the read-only \"../input/\" directory\n",
        "# For example, running this (by clicking run or pressing Shift+Enter) will list all files under the input directory\n",
        "\n",
        "import os\n",
        "for dirname, _, filenames in os.walk('/content/MasterThesis/ImagesAllPerPerson'):\n",
        "    for filename in filenames:\n",
        "        os.path.join(dirname, filename)"
      ]
    },
    {
      "cell_type": "code",
      "execution_count": 2,
      "id": "63l1PfNSgy2K",
      "metadata": {
        "colab": {
          "base_uri": "https://localhost:8080/"
        },
        "id": "63l1PfNSgy2K",
        "outputId": "f3da8501-bdf6-4e26-b1f9-41dde5623510"
      },
      "outputs": [
        {
          "output_type": "stream",
          "name": "stdout",
          "text": [
            "Cloning into 'MasterThesis'...\n",
            "remote: Enumerating objects: 6801, done.\u001b[K\n",
            "remote: Counting objects: 100% (39/39), done.\u001b[K\n",
            "remote: Compressing objects: 100% (31/31), done.\u001b[K\n",
            "remote: Total 6801 (delta 21), reused 11 (delta 8), pack-reused 6762\u001b[K\n",
            "Receiving objects: 100% (6801/6801), 1.21 GiB | 42.63 MiB/s, done.\n",
            "Resolving deltas: 100% (213/213), done.\n",
            "Updating files: 100% (40452/40452), done.\n"
          ]
        }
      ],
      "source": [
        "!git clone https://github.com/joerivc/MasterThesis.git"
      ]
    },
    {
      "cell_type": "code",
      "execution_count": 3,
      "id": "76842b84",
      "metadata": {
        "id": "76842b84"
      },
      "outputs": [],
      "source": [
        "import numpy as np\n",
        "import pandas as pd\n",
        "import matplotlib.pyplot as plt\n",
        "%matplotlib inline\n",
        "import cv2\n",
        "import os\n",
        "from tqdm import tqdm\n",
        "import tensorflow as tf\n",
        "from tensorflow.keras.preprocessing.image import ImageDataGenerator"
      ]
    },
    {
      "cell_type": "code",
      "execution_count": 4,
      "id": "469f7229",
      "metadata": {
        "id": "469f7229"
      },
      "outputs": [],
      "source": [
        "DATADIRTRAIN = '/content/MasterThesis/ImagesAllPerPerson/train'\n",
        "DATADIRTEST = '/content/MasterThesis/ImagesAllPerPerson/test'\n",
        "DATADIRVAL = '/content/MasterThesis/ImagesAllPerPerson/val'\n",
        "CATEGORIES = ['Sitting','SittingSPelvicRF','SittingSPelvicRB','SittingMPelvicRF','SittingMPelvicRB','SittingPelvicRF','SittingPelvicRB','Standing','StandingSPelvicRF','StandingSPelvicRB','StandingMPelvicRF','StandingMPelvicRB','StandingPelvicRF','StandingPelvicRB']\n",
        "IMG_SIZE=299"
      ]
    },
    {
      "cell_type": "code",
      "execution_count": 5,
      "id": "9ffa056f",
      "metadata": {
        "id": "9ffa056f"
      },
      "outputs": [],
      "source": [
        "training_data=[]\n",
        "def create_training_data():\n",
        "    for category in CATEGORIES:\n",
        "        path=os.path.join(DATADIRTRAIN, category)\n",
        "        class_num=CATEGORIES.index(category)\n",
        "        for img in os.listdir(path):\n",
        "            try:\n",
        "                img_array=cv2.imread(os.path.join(path,img))\n",
        "                new_array=cv2.resize(img_array,(IMG_SIZE,IMG_SIZE))\n",
        "                training_data.append([new_array,class_num])\n",
        "            except Exception as e:\n",
        "                pass"
      ]
    },
    {
      "cell_type": "code",
      "execution_count": 6,
      "id": "8da181d8",
      "metadata": {
        "id": "8da181d8"
      },
      "outputs": [],
      "source": [
        "test_data=[]\n",
        "def create_test_data():\n",
        "    for category in CATEGORIES:\n",
        "        path=os.path.join(DATADIRTEST, category)\n",
        "        class_num=CATEGORIES.index(category)\n",
        "        for img in os.listdir(path):\n",
        "            try:\n",
        "                img_array=cv2.imread(os.path.join(path,img))\n",
        "                new_array=cv2.resize(img_array,(IMG_SIZE,IMG_SIZE))\n",
        "                test_data.append([new_array,class_num])\n",
        "            except Exception as e:\n",
        "                pass"
      ]
    },
    {
      "cell_type": "code",
      "execution_count": 7,
      "id": "4c8d539c",
      "metadata": {
        "id": "4c8d539c"
      },
      "outputs": [],
      "source": [
        "val_data=[]\n",
        "def create_val_data():\n",
        "    for category in CATEGORIES:\n",
        "        path=os.path.join(DATADIRVAL, category)\n",
        "        class_num=CATEGORIES.index(category)\n",
        "        for img in os.listdir(path):\n",
        "            try:\n",
        "                img_array=cv2.imread(os.path.join(path,img))\n",
        "                new_array=cv2.resize(img_array,(IMG_SIZE,IMG_SIZE))\n",
        "                val_data.append([new_array,class_num])\n",
        "            except Exception as e:\n",
        "                pass"
      ]
    },
    {
      "cell_type": "code",
      "execution_count": 8,
      "id": "b57de0e0",
      "metadata": {
        "id": "b57de0e0"
      },
      "outputs": [],
      "source": [
        "create_training_data()\n",
        "X_train=[]\n",
        "y_train=[]\n",
        "categories_train = []\n",
        "label_train = []\n",
        "for categories_train, label_train in training_data:\n",
        "    X_train.append(categories_train)\n",
        "    y_train.append(label_train)\n"
      ]
    },
    {
      "cell_type": "code",
      "execution_count": 9,
      "id": "0fe64122",
      "metadata": {
        "id": "0fe64122"
      },
      "outputs": [],
      "source": [
        "X_train1 = np.array(X_train)/255.0\n",
        "y_train = np.array(y_train)"
      ]
    },
    {
      "cell_type": "code",
      "execution_count": 10,
      "id": "d6981e0d",
      "metadata": {
        "id": "d6981e0d"
      },
      "outputs": [],
      "source": [
        "create_test_data()\n",
        "X_test=[]\n",
        "y_test=[]\n",
        "for categories_test, label_test in test_data:\n",
        "    X_test.append(categories_test)\n",
        "    y_test.append(label_test)"
      ]
    },
    {
      "cell_type": "code",
      "execution_count": 11,
      "id": "dfb21267",
      "metadata": {
        "id": "dfb21267"
      },
      "outputs": [],
      "source": [
        "X_test1 = np.array(X_test)/255.0"
      ]
    },
    {
      "cell_type": "code",
      "execution_count": 12,
      "id": "fbbfc2cd",
      "metadata": {
        "id": "fbbfc2cd"
      },
      "outputs": [],
      "source": [
        "create_val_data()\n",
        "X_val=[]\n",
        "y_val=[]\n",
        "for categories_val, label_val in val_data:\n",
        "    X_val.append(categories_val)\n",
        "    y_val.append(label_val)"
      ]
    },
    {
      "cell_type": "code",
      "execution_count": 13,
      "id": "888ea6f8",
      "metadata": {
        "id": "888ea6f8"
      },
      "outputs": [],
      "source": [
        "X_val1 = np.array(X_val)/255.0\n",
        "y_val = np.array(y_val)"
      ]
    },
    {
      "cell_type": "code",
      "execution_count": 14,
      "id": "d15ab8af",
      "metadata": {
        "colab": {
          "base_uri": "https://localhost:8080/"
        },
        "id": "d15ab8af",
        "outputId": "f8092893-180f-4775-cc5e-1e26eed92fb3"
      },
      "outputs": [
        {
          "output_type": "stream",
          "name": "stdout",
          "text": [
            "(2880, 299, 299, 3)\n"
          ]
        }
      ],
      "source": [
        "print(X_train1.shape)"
      ]
    },
    {
      "cell_type": "code",
      "execution_count": 15,
      "id": "00b74f10",
      "metadata": {
        "colab": {
          "base_uri": "https://localhost:8080/"
        },
        "id": "00b74f10",
        "outputId": "8b18a88b-83f9-4264-ff05-d999e7c27c53"
      },
      "outputs": [
        {
          "output_type": "stream",
          "name": "stdout",
          "text": [
            "2880\n"
          ]
        }
      ],
      "source": [
        "print(len(y_train))"
      ]
    },
    {
      "cell_type": "code",
      "execution_count": 16,
      "id": "Z3rqLU2rhw1q",
      "metadata": {
        "id": "Z3rqLU2rhw1q"
      },
      "outputs": [],
      "source": [
        "X_test = np.array(X_test)/255.0\n",
        "y_test = np.array(y_test)"
      ]
    },
    {
      "cell_type": "code",
      "execution_count": 17,
      "id": "f4e0ab39",
      "metadata": {
        "colab": {
          "base_uri": "https://localhost:8080/"
        },
        "id": "f4e0ab39",
        "outputId": "6f04d029-516d-47dd-b1ae-b799c9c4a52a"
      },
      "outputs": [
        {
          "output_type": "stream",
          "name": "stdout",
          "text": [
            "Downloading data from https://storage.googleapis.com/tensorflow/keras-applications/xception/xception_weights_tf_dim_ordering_tf_kernels.h5\n",
            "91884032/91884032 [==============================] - 1s 0us/step\n",
            "(2880, 299, 299, 3)\n",
            "Epoch 1/20\n",
            "180/180 [==============================] - 71s 218ms/step - loss: 1.4711 - accuracy: 0.4753 - val_loss: 4.6959 - val_accuracy: 0.2188\n",
            "Epoch 2/20\n",
            "180/180 [==============================] - 36s 199ms/step - loss: 0.6046 - accuracy: 0.7493 - val_loss: 6.2271 - val_accuracy: 0.3396\n",
            "Epoch 3/20\n",
            "180/180 [==============================] - 36s 199ms/step - loss: 0.3430 - accuracy: 0.8740 - val_loss: 4.2612 - val_accuracy: 0.3115\n",
            "Epoch 4/20\n",
            "180/180 [==============================] - 36s 198ms/step - loss: 0.2450 - accuracy: 0.9156 - val_loss: 5.5169 - val_accuracy: 0.2510\n",
            "Epoch 5/20\n",
            "180/180 [==============================] - 36s 199ms/step - loss: 0.1713 - accuracy: 0.9399 - val_loss: 4.1220 - val_accuracy: 0.2094\n",
            "Epoch 6/20\n",
            "180/180 [==============================] - 36s 199ms/step - loss: 0.1371 - accuracy: 0.9552 - val_loss: 5.4844 - val_accuracy: 0.2313\n",
            "Epoch 7/20\n",
            "180/180 [==============================] - 36s 198ms/step - loss: 0.1553 - accuracy: 0.9465 - val_loss: 13.8963 - val_accuracy: 0.1312\n",
            "Epoch 8/20\n",
            "180/180 [==============================] - 36s 199ms/step - loss: 0.0951 - accuracy: 0.9719 - val_loss: 4.4588 - val_accuracy: 0.2313\n",
            "Epoch 9/20\n",
            "180/180 [==============================] - 36s 199ms/step - loss: 0.0588 - accuracy: 0.9826 - val_loss: 3.0416 - val_accuracy: 0.2594\n",
            "Epoch 10/20\n",
            "180/180 [==============================] - 36s 199ms/step - loss: 0.0800 - accuracy: 0.9778 - val_loss: 4.9220 - val_accuracy: 0.2313\n",
            "Epoch 11/20\n",
            "180/180 [==============================] - 36s 199ms/step - loss: 0.0911 - accuracy: 0.9684 - val_loss: 5.3565 - val_accuracy: 0.2219\n",
            "Epoch 12/20\n",
            "180/180 [==============================] - 36s 199ms/step - loss: 0.0730 - accuracy: 0.9764 - val_loss: 4.1285 - val_accuracy: 0.2406\n",
            "Epoch 13/20\n",
            "180/180 [==============================] - 36s 199ms/step - loss: 0.0214 - accuracy: 0.9944 - val_loss: 4.1341 - val_accuracy: 0.2271\n",
            "Epoch 14/20\n",
            "180/180 [==============================] - 36s 199ms/step - loss: 0.0370 - accuracy: 0.9882 - val_loss: 7.2723 - val_accuracy: 0.1906\n",
            "Epoch 15/20\n",
            "180/180 [==============================] - 36s 199ms/step - loss: 0.0177 - accuracy: 0.9965 - val_loss: 4.1126 - val_accuracy: 0.2594\n",
            "Epoch 16/20\n",
            "180/180 [==============================] - 36s 199ms/step - loss: 0.0336 - accuracy: 0.9882 - val_loss: 6.6198 - val_accuracy: 0.2156\n",
            "Epoch 17/20\n",
            "180/180 [==============================] - 36s 198ms/step - loss: 0.0767 - accuracy: 0.9750 - val_loss: 3.9760 - val_accuracy: 0.2333\n",
            "Epoch 18/20\n",
            "180/180 [==============================] - 36s 199ms/step - loss: 0.1038 - accuracy: 0.9715 - val_loss: 8.0077 - val_accuracy: 0.2000\n",
            "Epoch 19/20\n",
            "180/180 [==============================] - 36s 199ms/step - loss: 0.0263 - accuracy: 0.9920 - val_loss: 4.1014 - val_accuracy: 0.2438\n",
            "Epoch 20/20\n",
            "180/180 [==============================] - 36s 199ms/step - loss: 0.0384 - accuracy: 0.9910 - val_loss: 3.4691 - val_accuracy: 0.2479\n"
          ]
        },
        {
          "output_type": "execute_result",
          "data": {
            "text/plain": [
              "<keras.src.callbacks.History at 0x7b5900119450>"
            ]
          },
          "metadata": {},
          "execution_count": 17
        }
      ],
      "source": [
        "# Load pretrained Xception model\n",
        "xception = tf.keras.applications.Xception(weights='imagenet', include_top=True)\n",
        "xception.compile(optimizer='adam', loss='sparse_categorical_crossentropy', metrics=['accuracy'])\n",
        "#train_datagen = ImageDataGenerator()\n",
        "#train_datagen.fit(X_train)\n",
        "#xception.fit(train_datagen.flow(X_train, y_train, batch_size=32),\n",
        "#                    steps_per_epoch=len(x_train) / batch_size, epochs=10, verbose=1)\n",
        "print(X_train1.shape)\n",
        "xception.fit(X_train1, y_train,epochs=20,batch_size=16,validation_data=(X_val1, y_val))"
      ]
    },
    {
      "cell_type": "code",
      "execution_count": 18,
      "id": "3kVEDvSairiG",
      "metadata": {
        "colab": {
          "base_uri": "https://localhost:8080/"
        },
        "id": "3kVEDvSairiG",
        "outputId": "a627e7a8-eaab-4b33-b154-51b514dbd365"
      },
      "outputs": [
        {
          "output_type": "stream",
          "name": "stdout",
          "text": [
            "30/30 [==============================] - 6s 125ms/step - loss: 3.8555 - accuracy: 0.2167\n",
            "Test Loss: 3.8554904460906982, Test Accuracy: 0.21666666865348816\n"
          ]
        }
      ],
      "source": [
        "loss, accuracy = xception.evaluate(X_test, y_test)\n",
        "print(f'Test Loss: {loss}, Test Accuracy: {accuracy}')"
      ]
    },
    {
      "cell_type": "code",
      "execution_count": 20,
      "id": "f97b3104",
      "metadata": {
        "id": "f97b3104",
        "outputId": "5ebb7ade-7895-487d-c964-7373a212d1c3",
        "colab": {
          "base_uri": "https://localhost:8080/",
          "height": 582
        }
      },
      "outputs": [
        {
          "output_type": "stream",
          "name": "stdout",
          "text": [
            "30/30 [==============================] - 4s 123ms/step\n"
          ]
        },
        {
          "output_type": "display_data",
          "data": {
            "text/plain": [
              "<Figure size 800x600 with 1 Axes>"
            ],
            "image/png": "[encoded data removed]"
          },
          "metadata": {}
        }
      ],
      "source": [
        "from sklearn.metrics import confusion_matrix\n",
        "import seaborn as sns\n",
        "import matplotlib.pyplot as plt\n",
        "\n",
        "# Assuming you already have trained your Xception model (xception) and have test data (X_test, y_test)\n",
        "\n",
        "# Make predictions on test data\n",
        "y_pred = xception.predict(X_test)\n",
        "# Convert probabilities to class labels\n",
        "y_pred_classes = y_pred.argmax(axis=-1)\n",
        "\n",
        "# Create confusion matrix\n",
        "cm = confusion_matrix(y_test, y_pred_classes)\n",
        "\n",
        "# Visualize confusion matrix using seaborn heatmap\n",
        "plt.figure(figsize=(8, 6))\n",
        "sns.heatmap(cm, annot=True, fmt=\"d\", cmap=\"Blues\", cbar=False)  # Normalize by row\n",
        "plt.xlabel(\"Predicted labels\")\n",
        "plt.ylabel(\"True labels\")\n",
        "plt.title(\"Confusion Matrix\")\n",
        "\n",
        "# Save the confusion matrix plot as an image file\n",
        "plt.savefig('confusion_matrix.png')\n",
        "\n",
        "plt.show()"
      ]
    }
  ],
  "metadata": {
    "accelerator": "GPU",
    "colab": {
      "provenance": [],
      "gpuType": "L4"
    },
    "kernelspec": {
      "display_name": "Python 3",
      "name": "python3"
    },
    "language_info": {
      "codemirror_mode": {
        "name": "ipython",
        "version": 3
      },
      "file_extension": ".py",
      "mimetype": "text/x-python",
      "name": "python",
      "nbconvert_exporter": "python",
      "pygments_lexer": "ipython3",
      "version": "3.9.7"
    }
  },
  "nbformat": 4,
  "nbformat_minor": 5
}
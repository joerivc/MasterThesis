{
  "cells": [
    {
      "cell_type": "code",
      "execution_count": 1,
      "id": "ee24e8e9",
      "metadata": {
        "id": "ee24e8e9"
      },
      "outputs": [],
      "source": [
        "import numpy as np # linear algebra\n",
        "import pandas as pd # data processing, CSV file I/O (e.g. pd.read_csv)\n",
        "\n",
        "# Input data files are available in the read-only \"../input/\" directory\n",
        "# For example, running this (by clicking run or pressing Shift+Enter) will list all files under the input directory\n",
        "\n",
        "import os\n",
        "for dirname, _, filenames in os.walk('/content/MasterThesis/SplittedImagesAllClasses'):\n",
        "    for filename in filenames:\n",
        "        os.path.join(dirname, filename)"
      ]
    },
    {
      "cell_type": "code",
      "source": [
        "!git clone https://github.com/joerivc/MasterThesis.git"
      ],
      "metadata": {
        "id": "63l1PfNSgy2K",
        "outputId": "f3cc2325-9ce1-40be-9323-e8ad61db3b81",
        "colab": {
          "base_uri": "https://localhost:8080/"
        }
      },
      "id": "63l1PfNSgy2K",
      "execution_count": 2,
      "outputs": [
        {
          "output_type": "stream",
          "name": "stdout",
          "text": [
            "Cloning into 'MasterThesis'...\n",
            "remote: Enumerating objects: 6654, done.\u001b[K\n",
            "remote: Total 6654 (delta 0), reused 0 (delta 0), pack-reused 6654\u001b[K\n",
            "Receiving objects: 100% (6654/6654), 1.21 GiB | 42.43 MiB/s, done.\n",
            "Resolving deltas: 100% (107/107), done.\n",
            "Updating files: 100% (21222/21222), done.\n"
          ]
        }
      ]
    },
    {
      "cell_type": "code",
      "execution_count": 3,
      "id": "76842b84",
      "metadata": {
        "id": "76842b84"
      },
      "outputs": [],
      "source": [
        "import numpy as np\n",
        "import pandas as pd\n",
        "import matplotlib.pyplot as plt\n",
        "%matplotlib inline\n",
        "import cv2\n",
        "import os\n",
        "from tqdm import tqdm\n",
        "import tensorflow as tf\n",
        "from tensorflow.keras.preprocessing.image import ImageDataGenerator"
      ]
    },
    {
      "cell_type": "code",
      "execution_count": 4,
      "id": "469f7229",
      "metadata": {
        "id": "469f7229"
      },
      "outputs": [],
      "source": [
        "DATADIRTRAIN = '/content/MasterThesis/SplittedImagesAllClasses/train'\n",
        "DATADIRTEST = '/content/MasterThesis/SplittedImagesAllClasses/test'\n",
        "DATADIRVAL = '/content/MasterThesis/SplittedImagesAllClasses/val'\n",
        "CATEGORIES = ['Sitting','SittingPelvicRF','SittingMPelvicRF','SittingSPelvicRF','SittingPelvicRB','SittingSPelvicRB','SittingMPelvicRB','Standing','StandingPelvicRF','StandingSPelvicRF','StandingMPelvicRF','StandingMPelvicRB','StandingSPelvicRB','StandingPelvicRB']\n",
        "IMG_SIZE=299"
      ]
    },
    {
      "cell_type": "code",
      "execution_count": 5,
      "id": "9ffa056f",
      "metadata": {
        "id": "9ffa056f"
      },
      "outputs": [],
      "source": [
        "training_data=[]\n",
        "def create_training_data():\n",
        "    for category in CATEGORIES:\n",
        "        path=os.path.join(DATADIRTRAIN, category)\n",
        "        class_num=CATEGORIES.index(category)\n",
        "        for img in os.listdir(path):\n",
        "            try:\n",
        "                img_array=cv2.imread(os.path.join(path,img))\n",
        "                new_array=cv2.resize(img_array,(IMG_SIZE,IMG_SIZE))\n",
        "                training_data.append([new_array,class_num])\n",
        "            except Exception as e:\n",
        "                pass"
      ]
    },
    {
      "cell_type": "code",
      "execution_count": 6,
      "id": "8da181d8",
      "metadata": {
        "id": "8da181d8"
      },
      "outputs": [],
      "source": [
        "test_data=[]\n",
        "def create_test_data():\n",
        "    for category in CATEGORIES:\n",
        "        path=os.path.join(DATADIRTEST, category)\n",
        "        class_num=CATEGORIES.index(category)\n",
        "        for img in os.listdir(path):\n",
        "            try:\n",
        "                img_array=cv2.imread(os.path.join(path,img))\n",
        "                new_array=cv2.resize(img_array,(IMG_SIZE,IMG_SIZE))\n",
        "                test_data.append([new_array,class_num])\n",
        "            except Exception as e:\n",
        "                pass"
      ]
    },
    {
      "cell_type": "code",
      "execution_count": 7,
      "id": "4c8d539c",
      "metadata": {
        "id": "4c8d539c"
      },
      "outputs": [],
      "source": [
        "val_data=[]\n",
        "def create_val_data():\n",
        "    for category in CATEGORIES:\n",
        "        path=os.path.join(DATADIRVAL, category)\n",
        "        class_num=CATEGORIES.index(category)\n",
        "        for img in os.listdir(path):\n",
        "            try:\n",
        "                img_array=cv2.imread(os.path.join(path,img))\n",
        "                new_array=cv2.resize(img_array,(IMG_SIZE,IMG_SIZE))\n",
        "                val_data.append([new_array,class_num])\n",
        "            except Exception as e:\n",
        "                pass"
      ]
    },
    {
      "cell_type": "code",
      "execution_count": 8,
      "id": "b57de0e0",
      "metadata": {
        "id": "b57de0e0"
      },
      "outputs": [],
      "source": [
        "create_training_data()\n",
        "X_train=[]\n",
        "y_train=[]\n",
        "categories_train = []\n",
        "label_train = []\n",
        "for categories_train, label_train in training_data:\n",
        "    X_train.append(categories_train)\n",
        "    y_train.append(label_train)\n"
      ]
    },
    {
      "cell_type": "code",
      "execution_count": 9,
      "id": "0fe64122",
      "metadata": {
        "id": "0fe64122"
      },
      "outputs": [],
      "source": [
        "X_train1 = np.array(X_train)/255.0\n",
        "y_train = np.array(y_train)"
      ]
    },
    {
      "cell_type": "code",
      "execution_count": 10,
      "id": "d6981e0d",
      "metadata": {
        "id": "d6981e0d"
      },
      "outputs": [],
      "source": [
        "create_test_data()\n",
        "X_test=[]\n",
        "y_test=[]\n",
        "for categories_test, label_test in test_data:\n",
        "    X_test.append(categories_test)\n",
        "    y_test.append(label_test)"
      ]
    },
    {
      "cell_type": "code",
      "execution_count": 11,
      "id": "dfb21267",
      "metadata": {
        "id": "dfb21267"
      },
      "outputs": [],
      "source": [
        "X_test1 = np.array(X_test)/255.0"
      ]
    },
    {
      "cell_type": "code",
      "execution_count": 12,
      "id": "fbbfc2cd",
      "metadata": {
        "id": "fbbfc2cd"
      },
      "outputs": [],
      "source": [
        "create_val_data()\n",
        "X_val=[]\n",
        "y_val=[]\n",
        "for categories_val, label_val in val_data:\n",
        "    X_val.append(categories_val)\n",
        "    y_val.append(label_val)"
      ]
    },
    {
      "cell_type": "code",
      "execution_count": 13,
      "id": "888ea6f8",
      "metadata": {
        "id": "888ea6f8"
      },
      "outputs": [],
      "source": [
        "X_val1 = np.array(X_val)/255.0\n",
        "y_val = np.array(y_val)"
      ]
    },
    {
      "cell_type": "code",
      "execution_count": 14,
      "id": "d15ab8af",
      "metadata": {
        "id": "d15ab8af",
        "outputId": "151f2107-5b85-4065-c1ab-f928b9093729",
        "colab": {
          "base_uri": "https://localhost:8080/"
        }
      },
      "outputs": [
        {
          "output_type": "stream",
          "name": "stdout",
          "text": [
            "(2880, 299, 299, 3)\n"
          ]
        }
      ],
      "source": [
        "print(X_train1.shape)"
      ]
    },
    {
      "cell_type": "code",
      "execution_count": 15,
      "id": "00b74f10",
      "metadata": {
        "id": "00b74f10",
        "outputId": "207ee5a6-3d3b-42d1-c61c-474ba5950e54",
        "colab": {
          "base_uri": "https://localhost:8080/"
        }
      },
      "outputs": [
        {
          "output_type": "stream",
          "name": "stdout",
          "text": [
            "2880\n"
          ]
        }
      ],
      "source": [
        "print(len(y_train))"
      ]
    },
    {
      "cell_type": "code",
      "source": [
        "X_test = np.array(X_test)/255.0\n",
        "y_test = np.array(y_test)"
      ],
      "metadata": {
        "id": "Z3rqLU2rhw1q"
      },
      "id": "Z3rqLU2rhw1q",
      "execution_count": 16,
      "outputs": []
    },
    {
      "cell_type": "code",
      "execution_count": 17,
      "id": "f4e0ab39",
      "metadata": {
        "id": "f4e0ab39",
        "outputId": "a7d67737-1664-4f5d-fb75-2673955065e7",
        "colab": {
          "base_uri": "https://localhost:8080/"
        }
      },
      "outputs": [
        {
          "output_type": "stream",
          "name": "stdout",
          "text": [
            "Downloading data from https://storage.googleapis.com/tensorflow/keras-applications/xception/xception_weights_tf_dim_ordering_tf_kernels.h5\n",
            "91884032/91884032 [==============================] - 1s 0us/step\n",
            "(2880, 299, 299, 3)\n",
            "Epoch 1/20\n",
            "90/90 [==============================] - 77s 464ms/step - loss: 1.5139 - accuracy: 0.4583 - val_loss: 8.1766 - val_accuracy: 0.2792\n",
            "Epoch 2/20\n",
            "90/90 [==============================] - 38s 417ms/step - loss: 0.7685 - accuracy: 0.6771 - val_loss: 4.5625 - val_accuracy: 0.4500\n",
            "Epoch 3/20\n",
            "90/90 [==============================] - 38s 423ms/step - loss: 0.5250 - accuracy: 0.7969 - val_loss: 1.4005 - val_accuracy: 0.6896\n",
            "Epoch 4/20\n",
            "90/90 [==============================] - 39s 428ms/step - loss: 0.3642 - accuracy: 0.8681 - val_loss: 1.7250 - val_accuracy: 0.6427\n",
            "Epoch 5/20\n",
            "90/90 [==============================] - 39s 430ms/step - loss: 0.2976 - accuracy: 0.8892 - val_loss: 0.6353 - val_accuracy: 0.8115\n",
            "Epoch 6/20\n",
            "90/90 [==============================] - 39s 429ms/step - loss: 0.2198 - accuracy: 0.9191 - val_loss: 0.4020 - val_accuracy: 0.8521\n",
            "Epoch 7/20\n",
            "90/90 [==============================] - 39s 429ms/step - loss: 0.1313 - accuracy: 0.9576 - val_loss: 0.6938 - val_accuracy: 0.8240\n",
            "Epoch 8/20\n",
            "90/90 [==============================] - 39s 431ms/step - loss: 0.1072 - accuracy: 0.9688 - val_loss: 0.2485 - val_accuracy: 0.9187\n",
            "Epoch 9/20\n",
            "90/90 [==============================] - 39s 432ms/step - loss: 0.1070 - accuracy: 0.9646 - val_loss: 0.3220 - val_accuracy: 0.8969\n",
            "Epoch 10/20\n",
            "90/90 [==============================] - 39s 432ms/step - loss: 0.1320 - accuracy: 0.9625 - val_loss: 0.1500 - val_accuracy: 0.9542\n",
            "Epoch 11/20\n",
            "90/90 [==============================] - 39s 431ms/step - loss: 0.0745 - accuracy: 0.9740 - val_loss: 0.4744 - val_accuracy: 0.8510\n",
            "Epoch 12/20\n",
            "90/90 [==============================] - 39s 430ms/step - loss: 0.0996 - accuracy: 0.9653 - val_loss: 0.3961 - val_accuracy: 0.8771\n",
            "Epoch 13/20\n",
            "90/90 [==============================] - 39s 431ms/step - loss: 0.0974 - accuracy: 0.9684 - val_loss: 0.5003 - val_accuracy: 0.8781\n",
            "Epoch 14/20\n",
            "90/90 [==============================] - 39s 431ms/step - loss: 0.0579 - accuracy: 0.9819 - val_loss: 0.4679 - val_accuracy: 0.8833\n",
            "Epoch 15/20\n",
            "90/90 [==============================] - 39s 431ms/step - loss: 0.0487 - accuracy: 0.9844 - val_loss: 0.5999 - val_accuracy: 0.8479\n",
            "Epoch 16/20\n",
            "90/90 [==============================] - 39s 430ms/step - loss: 0.0577 - accuracy: 0.9819 - val_loss: 0.2668 - val_accuracy: 0.9365\n",
            "Epoch 17/20\n",
            "90/90 [==============================] - 39s 432ms/step - loss: 0.0502 - accuracy: 0.9837 - val_loss: 2.3082 - val_accuracy: 0.5583\n",
            "Epoch 18/20\n",
            "90/90 [==============================] - 39s 430ms/step - loss: 0.0851 - accuracy: 0.9774 - val_loss: 3.8578 - val_accuracy: 0.5531\n",
            "Epoch 19/20\n",
            "90/90 [==============================] - 39s 432ms/step - loss: 0.0762 - accuracy: 0.9802 - val_loss: 1.3617 - val_accuracy: 0.6760\n",
            "Epoch 20/20\n",
            "90/90 [==============================] - 39s 431ms/step - loss: 0.0344 - accuracy: 0.9899 - val_loss: 0.6269 - val_accuracy: 0.8552\n"
          ]
        },
        {
          "output_type": "execute_result",
          "data": {
            "text/plain": [
              "<keras.src.callbacks.History at 0x7dc1a02873d0>"
            ]
          },
          "metadata": {},
          "execution_count": 17
        }
      ],
      "source": [
        "# Load pretrained Xception model\n",
        "xception = tf.keras.applications.Xception(weights='imagenet', include_top=True)\n",
        "xception.compile(optimizer='adam', loss='sparse_categorical_crossentropy', metrics=['accuracy'])\n",
        "#train_datagen = ImageDataGenerator()\n",
        "#train_datagen.fit(X_train)\n",
        "#xception.fit(train_datagen.flow(X_train, y_train, batch_size=32),\n",
        "#                    steps_per_epoch=len(x_train) / batch_size, epochs=10, verbose=1)\n",
        "print(X_train1.shape)\n",
        "xception.fit(X_train1, y_train,epochs=20,batch_size=32,validation_data=(X_val1, y_val))"
      ]
    },
    {
      "cell_type": "code",
      "source": [
        "loss, accuracy = xception.evaluate(X_test, y_test)\n",
        "print(f'Test Loss: {loss}, Test Accuracy: {accuracy}')"
      ],
      "metadata": {
        "id": "3kVEDvSairiG",
        "outputId": "bc819e33-1325-4fc1-dfde-78d5a6e6773c",
        "colab": {
          "base_uri": "https://localhost:8080/"
        }
      },
      "id": "3kVEDvSairiG",
      "execution_count": 18,
      "outputs": [
        {
          "output_type": "stream",
          "name": "stdout",
          "text": [
            "30/30 [==============================] - 4s 127ms/step - loss: 0.6369 - accuracy: 0.8479\n",
            "Test Loss: 0.6368528604507446, Test Accuracy: 0.8479166626930237\n"
          ]
        }
      ]
    },
    {
      "cell_type": "code",
      "execution_count": null,
      "id": "f97b3104",
      "metadata": {
        "id": "f97b3104"
      },
      "outputs": [],
      "source": []
    }
  ],
  "metadata": {
    "kernelspec": {
      "display_name": "Python 3",
      "name": "python3"
    },
    "language_info": {
      "codemirror_mode": {
        "name": "ipython",
        "version": 3
      },
      "file_extension": ".py",
      "mimetype": "text/x-python",
      "name": "python",
      "nbconvert_exporter": "python",
      "pygments_lexer": "ipython3",
      "version": "3.9.7"
    },
    "colab": {
      "provenance": [],
      "gpuType": "L4"
    },
    "accelerator": "GPU"
  },
  "nbformat": 4,
  "nbformat_minor": 5
}